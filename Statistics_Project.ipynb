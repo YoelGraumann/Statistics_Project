{
 "cells": [
  {
   "cell_type": "markdown",
   "id": "3510093a",
   "metadata": {},
   "source": [
    "# Statistics For Data Science Project\n"
   ]
  },
  {
   "cell_type": "markdown",
   "id": "d01a4e3d",
   "metadata": {},
   "source": [
    "##  Question 1 Estimation\n"
   ]
  },
  {
   "cell_type": "markdown",
   "id": "e52e36c5",
   "metadata": {},
   "source": [
    "Packages:"
   ]
  },
  {
   "cell_type": "code",
   "execution_count": 1,
   "id": "e6638b86",
   "metadata": {},
   "outputs": [],
   "source": [
    "import numpy as np\n",
    "from scipy.stats import chi2\n",
    "from scipy.stats import norm\n",
    "import pandas as pd\n",
    "from IPython.display import display, HTML\n",
    "from IPython.display import IFrame\n",
    "import matplotlib.pyplot as plt\n",
    "import sklearn \n",
    "from sklearn import linear_model\n",
    "from sklearn.linear_model import LinearRegression\n",
    "from sklearn.model_selection import train_test_split\n",
    "import statsmodels.api as sm\n",
    "import time\n",
    "np.random.seed(2070)"
   ]
  },
  {
   "cell_type": "markdown",
   "id": "0abfeb84",
   "metadata": {},
   "source": [
    "#### a)"
   ]
  },
  {
   "cell_type": "markdown",
   "id": "4615d44e",
   "metadata": {},
   "source": [
    "Getting 50 samples for each p = [0.3,0.5,0.7]"
   ]
  },
  {
   "cell_type": "code",
   "execution_count": 2,
   "id": "155a15e5",
   "metadata": {},
   "outputs": [
    {
     "data": {
      "text/plain": [
       "array([53, 37, 56, 47, 58, 52, 54, 49, 51, 56, 58, 49, 51, 56, 51, 49, 36,\n",
       "       52, 56, 48, 57, 51, 56, 48, 50, 49, 54, 43, 49, 49, 54, 52, 43, 43,\n",
       "       44, 53, 44, 54, 46, 53, 51, 66, 52, 53, 57, 49, 43, 45, 41, 45])"
      ]
     },
     "execution_count": 2,
     "metadata": {},
     "output_type": "execute_result"
    }
   ],
   "source": [
    "np.random.seed(2070)\n",
    "fifty_samples_03 = np.random.binomial(n=100,p=0.3,size=50)\n",
    "fifty_samples_05 = np.random.binomial(n=100,p=0.5,size=50)\n",
    "fifty_samples_07 = np.random.binomial(n=100,p=0.7,size=50) \n",
    "# example:\n",
    "fifty_samples_05"
   ]
  },
  {
   "cell_type": "markdown",
   "id": "718f9408",
   "metadata": {},
   "source": [
    "###### * Normal Approximation "
   ]
  },
  {
   "cell_type": "markdown",
   "id": "bd64b733",
   "metadata": {},
   "source": [
    "Creating a normal approximation confidence interval, we will reuse some of these data later.\n",
    "We also decided to keep track of the maximum likelihood estimator for the proportion p of the data, by getting the mean of the sample and then dividing it by 100. \n"
   ]
  },
  {
   "cell_type": "code",
   "execution_count": 3,
   "id": "f1d0221d",
   "metadata": {},
   "outputs": [
    {
     "data": {
      "text/plain": [
       "(0.3076, 0.5025999999999999, 0.6975999999999999)"
      ]
     },
     "execution_count": 3,
     "metadata": {},
     "output_type": "execute_result"
    }
   ],
   "source": [
    "p_hat_03 = np.mean(fifty_samples_03/100) # This is our mle \n",
    "p_hat_05 = np.mean(fifty_samples_05/100) # this is our mle \n",
    "p_hat_07 = np.mean(fifty_samples_07/100) # this is our mle\n",
    "mean_03 = np.mean(fifty_samples_03) # mean of data when p=0.3\n",
    "mean_05 = np.mean(fifty_samples_05) # mean of data when p=0.5\n",
    "mean_07 = np.mean(fifty_samples_07) # mean of data when p=0.7\n",
    "sample_size = 50\n",
    "\" Getting the standard deviation devided by\"\n",
    "\" the square root of the sample size, for the confidence interval\"\n",
    "std03 = np.std(fifty_samples_03) * 1/ np.sqrt(sample_size)\n",
    "std05 = np.std(fifty_samples_03) * 1/ np.sqrt(sample_size)\n",
    "std07 = np.std(fifty_samples_07) * 1/np.sqrt(sample_size)\n",
    "z_95_conf = 1.96\n",
    "normal_ci_for_03 = ((mean_03 -  std03* z_95_conf),(mean_03 + std03 * z_95_conf))\n",
    "normal_ci_for_05 = ((mean_05 - std05 * z_95_conf),(mean_05 + std05* z_95_conf))\n",
    "normal_ci_for_07 = ((mean_07 - std07 * z_95_conf),(mean_07 + std07 * z_95_conf))\n",
    "# printing the p hats:\n",
    "p_hat_03,p_hat_05,p_hat_07"
   ]
  },
  {
   "cell_type": "markdown",
   "id": "2d7e1ab2",
   "metadata": {},
   "source": [
    "95% Normal Confidence intervals: "
   ]
  },
  {
   "cell_type": "markdown",
   "id": "f0039133",
   "metadata": {},
   "source": [
    "Normal Confidence interval for when the p=0.3 is:"
   ]
  },
  {
   "cell_type": "code",
   "execution_count": 4,
   "id": "e3e97d7f",
   "metadata": {
    "scrolled": true
   },
   "outputs": [
    {
     "data": {
      "text/plain": [
       "(29.433486827506037, 32.086513172493966)"
      ]
     },
     "execution_count": 4,
     "metadata": {},
     "output_type": "execute_result"
    }
   ],
   "source": [
    "normal_ci_for_03"
   ]
  },
  {
   "cell_type": "markdown",
   "id": "9f35ff2e",
   "metadata": {},
   "source": [
    "Normal Confidence interval for when the p=0.5 is:"
   ]
  },
  {
   "cell_type": "code",
   "execution_count": 5,
   "id": "f9cfa5e8",
   "metadata": {
    "scrolled": true
   },
   "outputs": [
    {
     "data": {
      "text/plain": [
       "(48.93348682750604, 51.58651317249396)"
      ]
     },
     "execution_count": 5,
     "metadata": {},
     "output_type": "execute_result"
    }
   ],
   "source": [
    "normal_ci_for_05"
   ]
  },
  {
   "cell_type": "markdown",
   "id": "7a906b4f",
   "metadata": {},
   "source": [
    "Normal Confidence interval for when the p=0.7 is:"
   ]
  },
  {
   "cell_type": "code",
   "execution_count": 6,
   "id": "84d5c60e",
   "metadata": {
    "scrolled": true
   },
   "outputs": [
    {
     "data": {
      "text/plain": [
       "(68.38122950539258, 71.13877049460743)"
      ]
     },
     "execution_count": 6,
     "metadata": {},
     "output_type": "execute_result"
    }
   ],
   "source": [
    "normal_ci_for_07"
   ]
  },
  {
   "cell_type": "markdown",
   "id": "b642983f",
   "metadata": {},
   "source": [
    "###### * Parametric Bootstrap"
   ]
  },
  {
   "cell_type": "markdown",
   "id": "c4b7f86c",
   "metadata": {},
   "source": [
    "For the parametric bootstrap, we sample from the DISTRIBUTION where we plug in our mle which we got from \n",
    "calculating from our dataset.\n",
    "The idea here is that we have a data set, we calculate the mle for the parameter of our assumed model, and then we simulate\n",
    "the data from the parametric model, using our mle.\n"
   ]
  },
  {
   "cell_type": "markdown",
   "id": "9890edc7",
   "metadata": {},
   "source": [
    "Technically, all we have to do is sample 50 iid rvs from binonial distribution with n = 100 and p = \"The appropriate MLE\""
   ]
  },
  {
   "cell_type": "markdown",
   "id": "76b7e346",
   "metadata": {},
   "source": [
    "In the book we have found several ways to create a confidence interval using the bootstrap\n",
    "we decided to the normal parametric bootstrap and also the percentile parametric bootstrap, just for fun."
   ]
  },
  {
   "cell_type": "markdown",
   "id": "02e1ea27",
   "metadata": {},
   "source": [
    "* Starting with the normal parametric bootstrap confidence intervals."
   ]
  },
  {
   "cell_type": "code",
   "execution_count": 7,
   "id": "3778989c",
   "metadata": {
    "scrolled": true
   },
   "outputs": [
    {
     "data": {
      "text/plain": [
       "(0.42140636439999973, 0.4804305775999996, 0.4213616955999996)"
      ]
     },
     "execution_count": 7,
     "metadata": {},
     "output_type": "execute_result"
    }
   ],
   "source": [
    "np.random.seed(2070)\n",
    "'this function takes in the assumed parameters for the binomial distribution'\n",
    "'we assume that n=100 and the p parameter is according to our mle'\n",
    "'finally the function also takes in the number of iterations for the bootstrap B this function returns the bootstrapped'\n",
    "'variance'\n",
    "def parametric_binomial_bootstrap(n,mle,B):\n",
    "    T_boot = [] # note that we are trying to find the parameter p (proportion) of the data\n",
    "    for i in range(B):\n",
    "        current_draw = np.random.binomial(n=n,p=mle,size=50)\n",
    "        T_boot.append(np.mean(current_draw))\n",
    "    bootstrap_mean = np.sum(T_boot) / B\n",
    "    new_tboot=(T_boot-bootstrap_mean) ** 2\n",
    "    vboot = sum(new_tboot) / B \n",
    "    return vboot\n",
    "\n",
    "\n",
    "parametric_vboot_for_03 = parametric_binomial_bootstrap(n=100,mle=p_hat_03,B=1000)\n",
    "parametric_vboot_for_05 = parametric_binomial_bootstrap(n=100,mle=p_hat_05,B=1000)\n",
    "parametric_vboot_for_07 = parametric_binomial_bootstrap(n=100,mle=p_hat_07,B=1000)\n",
    "parametric_vboot_for_03,parametric_vboot_for_05,parametric_vboot_for_07"
   ]
  },
  {
   "cell_type": "code",
   "execution_count": 8,
   "id": "475be644",
   "metadata": {},
   "outputs": [],
   "source": [
    "parametric_ci_for_03 = (p_hat_03*100 - np.sqrt(parametric_vboot_for_03)*z_95_conf,p_hat_03*100 + np.sqrt(parametric_vboot_for_03) * z_95_conf)\n",
    "parametric_ci_for_05 = (p_hat_05*100 - np.sqrt(parametric_vboot_for_05)*z_95_conf,p_hat_05*100 + np.sqrt(parametric_vboot_for_05) * z_95_conf)\n",
    "parametric_ci_for_07 = (p_hat_07*100 - np.sqrt(parametric_vboot_for_07)*z_95_conf,p_hat_07*100 + np.sqrt(parametric_vboot_for_07) * z_95_conf)\n"
   ]
  },
  {
   "cell_type": "markdown",
   "id": "ca67429f",
   "metadata": {},
   "source": [
    "Parametric bootstrap normal CI's:"
   ]
  },
  {
   "cell_type": "markdown",
   "id": "4556e9ca",
   "metadata": {},
   "source": [
    "Normal Parametric confidence interval when p=0.3"
   ]
  },
  {
   "cell_type": "code",
   "execution_count": 9,
   "id": "bc107e5c",
   "metadata": {
    "scrolled": true
   },
   "outputs": [
    {
     "data": {
      "text/plain": [
       "(29.48764993438164, 32.03235006561835)"
      ]
     },
     "execution_count": 9,
     "metadata": {},
     "output_type": "execute_result"
    }
   ],
   "source": [
    "parametric_ci_for_03"
   ]
  },
  {
   "cell_type": "markdown",
   "id": "c0cad001",
   "metadata": {},
   "source": [
    "Normal Parametric confidence interval when p=0.5"
   ]
  },
  {
   "cell_type": "code",
   "execution_count": 10,
   "id": "6b9f65c6",
   "metadata": {},
   "outputs": [
    {
     "data": {
      "text/plain": [
       "(48.901463247862544, 51.61853675213744)"
      ]
     },
     "execution_count": 10,
     "metadata": {},
     "output_type": "execute_result"
    }
   ],
   "source": [
    "parametric_ci_for_05"
   ]
  },
  {
   "cell_type": "markdown",
   "id": "a6d32649",
   "metadata": {},
   "source": [
    "Normal Parametric confidence interval when p=0.7"
   ]
  },
  {
   "cell_type": "code",
   "execution_count": 11,
   "id": "90822122",
   "metadata": {
    "scrolled": false
   },
   "outputs": [
    {
     "data": {
      "text/plain": [
       "(68.4877173703076, 71.03228262969238)"
      ]
     },
     "execution_count": 11,
     "metadata": {},
     "output_type": "execute_result"
    }
   ],
   "source": [
    "parametric_ci_for_07"
   ]
  },
  {
   "cell_type": "markdown",
   "id": "6e0e40ba",
   "metadata": {},
   "source": [
    "parametric_binomial_bootstrap_quantile"
   ]
  },
  {
   "cell_type": "markdown",
   "id": "fc2ecdf9",
   "metadata": {},
   "source": [
    "The main idea here is the same, we just use the percentile method instead:"
   ]
  },
  {
   "cell_type": "code",
   "execution_count": 12,
   "id": "717b6c02",
   "metadata": {},
   "outputs": [],
   "source": [
    "def parametric_binomial_bootstrap_percentile(n,mle,B):\n",
    "    T_boot = [] # note that we are trying to find the parameter p (proportion) of the data\n",
    "    for i in range(B):\n",
    "        current_draw = np.random.binomial(n=n,p=mle,size=50)\n",
    "        T_boot.append(np.mean(current_draw))\n",
    "    upper_bound=np.quantile(T_boot, .975)\n",
    "    lower_bound = np.quantile(T_boot, .025)\n",
    "    return (lower_bound,upper_bound)\n",
    "\n",
    "quantile_ci_03=parametric_binomial_bootstrap_percentile(n=100,mle=p_hat_03,B=1000)\n",
    "quantile_ci_05= parametric_binomial_bootstrap_percentile(n=100,mle=p_hat_05,B=1000)\n",
    "quantile_ci_07=parametric_binomial_bootstrap_percentile(n=100,mle=p_hat_07,B=1000)"
   ]
  },
  {
   "cell_type": "markdown",
   "id": "9ee6731d",
   "metadata": {},
   "source": [
    "percentile confidence interval when p=0.3"
   ]
  },
  {
   "cell_type": "code",
   "execution_count": 13,
   "id": "e38cce41",
   "metadata": {},
   "outputs": [
    {
     "data": {
      "text/plain": [
       "(29.599500000000003, 32.08)"
      ]
     },
     "execution_count": 13,
     "metadata": {},
     "output_type": "execute_result"
    }
   ],
   "source": [
    "quantile_ci_03"
   ]
  },
  {
   "cell_type": "markdown",
   "id": "d4cf07a2",
   "metadata": {},
   "source": [
    "percentile confidence interval when p=0.5"
   ]
  },
  {
   "cell_type": "code",
   "execution_count": 14,
   "id": "66cdf2d0",
   "metadata": {},
   "outputs": [
    {
     "data": {
      "text/plain": [
       "(48.659499999999994, 51.6805)"
      ]
     },
     "execution_count": 14,
     "metadata": {},
     "output_type": "execute_result"
    }
   ],
   "source": [
    "quantile_ci_05"
   ]
  },
  {
   "cell_type": "markdown",
   "id": "b9edd5a7",
   "metadata": {},
   "source": [
    "percentile confidence interval when p=0.7"
   ]
  },
  {
   "cell_type": "code",
   "execution_count": 15,
   "id": "774ecb68",
   "metadata": {},
   "outputs": [
    {
     "data": {
      "text/plain": [
       "(68.4995, 71.0205)"
      ]
     },
     "execution_count": 15,
     "metadata": {},
     "output_type": "execute_result"
    }
   ],
   "source": [
    "quantile_ci_07"
   ]
  },
  {
   "cell_type": "markdown",
   "id": "795304cc",
   "metadata": {},
   "source": [
    "###### Comparing the two methods for the parametric confidence interval:"
   ]
  },
  {
   "cell_type": "code",
   "execution_count": 16,
   "id": "184f7277",
   "metadata": {},
   "outputs": [
    {
     "data": {
      "text/html": [
       "<table border=\"1\" class=\"dataframe\">\n",
       "  <thead>\n",
       "    <tr style=\"text-align: right;\">\n",
       "      <th></th>\n",
       "      <th>Method</th>\n",
       "      <th>95% Interval</th>\n",
       "      <th>p parameter value</th>\n",
       "    </tr>\n",
       "  </thead>\n",
       "  <tbody>\n",
       "    <tr>\n",
       "      <th>0</th>\n",
       "      <td>Normal</td>\n",
       "      <td>(29.48764993438164, 32.03235006561835)</td>\n",
       "      <td>0.3</td>\n",
       "    </tr>\n",
       "    <tr>\n",
       "      <th>1</th>\n",
       "      <td>Normal</td>\n",
       "      <td>(48.901463247862544, 51.61853675213744)</td>\n",
       "      <td>0.5</td>\n",
       "    </tr>\n",
       "    <tr>\n",
       "      <th>2</th>\n",
       "      <td>Normal</td>\n",
       "      <td>(68.4877173703076, 71.03228262969238)</td>\n",
       "      <td>0.7</td>\n",
       "    </tr>\n",
       "    <tr>\n",
       "      <th>3</th>\n",
       "      <td>Percentile</td>\n",
       "      <td>(29.599500000000003, 32.08)</td>\n",
       "      <td>0.3</td>\n",
       "    </tr>\n",
       "    <tr>\n",
       "      <th>4</th>\n",
       "      <td>Percentile</td>\n",
       "      <td>(48.659499999999994, 51.6805)</td>\n",
       "      <td>0.5</td>\n",
       "    </tr>\n",
       "    <tr>\n",
       "      <th>5</th>\n",
       "      <td>Percentile</td>\n",
       "      <td>(68.4995, 71.0205)</td>\n",
       "      <td>0.7</td>\n",
       "    </tr>\n",
       "  </tbody>\n",
       "</table>"
      ],
      "text/plain": [
       "<IPython.core.display.HTML object>"
      ]
     },
     "metadata": {},
     "output_type": "display_data"
    }
   ],
   "source": [
    "data = [\n",
    "    ('Normal',parametric_ci_for_03,0.3),\n",
    "    ('Normal',parametric_ci_for_05,0.5),\n",
    "    ('Normal',parametric_ci_for_07,0.7),\n",
    "    ('Percentile',quantile_ci_03,0.3),\n",
    "    ('Percentile',quantile_ci_05,0.5),\n",
    "    ('Percentile',quantile_ci_07,0.7)\n",
    "]\n",
    "df = pd.DataFrame(data,columns=['Method','95% Interval','p parameter value'])\n",
    "display(HTML(df.to_html()))"
   ]
  },
  {
   "cell_type": "markdown",
   "id": "01762e43",
   "metadata": {},
   "source": [
    "###### * Non-parametric boostrap"
   ]
  },
  {
   "cell_type": "markdown",
   "id": "433f42f8",
   "metadata": {},
   "source": [
    "For the non-parametric bootstrap we will get the vboot from re-drawing from our origin dataset, \"fifty_samples_0x\" with replacement."
   ]
  },
  {
   "cell_type": "markdown",
   "id": "81c8808a",
   "metadata": {},
   "source": [
    "This function takes in a data set to perform the non_parametric_bootstrap on and the B for the number of iterations."
   ]
  },
  {
   "cell_type": "code",
   "execution_count": 17,
   "id": "804f2ebc",
   "metadata": {},
   "outputs": [],
   "source": [
    "np.random.seed(2070)\n",
    "def non_parametric_bootstrap(data,B):\n",
    "    T_boot = [] \n",
    "    data_size = len(data)\n",
    "    for i in range(B):\n",
    "        # This time we are drawing from our dataset, with replacement. \n",
    "        current_draw = np.random.choice(data, size=data_size, replace=True)\n",
    "        T_boot.append(np.mean(current_draw))\n",
    "    bootstrap_mean = np.sum(T_boot) / B\n",
    "    new_tboot=(T_boot-bootstrap_mean) ** 2\n",
    "    vboot = np.mean(new_tboot)\n",
    "    return vboot   \n",
    "# getting the variances:\n",
    "non_param_vboot_for_03 = non_parametric_bootstrap(data=fifty_samples_03,B=1000)\n",
    "non_param_vboot_for_05 = non_parametric_bootstrap(data=fifty_samples_05,B=1000)\n",
    "non_param_vboot_for_07 = non_parametric_bootstrap(data=fifty_samples_07,B=1000)\n",
    "# calculating the CI's\n",
    "non_param_ci_for_03 = (mean_03 - np.sqrt(non_param_vboot_for_03)*z_95_conf,mean_03 + np.sqrt(non_param_vboot_for_03) * z_95_conf)\n",
    "non_param_ci_for_05 = (mean_05 - np.sqrt(non_param_vboot_for_05)*z_95_conf,mean_05 + np.sqrt(non_param_vboot_for_05) * z_95_conf)\n",
    "non_param_ci_for_07 = (mean_07 - np.sqrt(non_param_vboot_for_07)*z_95_conf,mean_07 + np.sqrt(non_param_vboot_for_07) * z_95_conf)"
   ]
  },
  {
   "cell_type": "markdown",
   "id": "6f9effa0",
   "metadata": {},
   "source": [
    "The non parametric bootstrap confidence interval for p=0.3:"
   ]
  },
  {
   "cell_type": "code",
   "execution_count": 18,
   "id": "a60737db",
   "metadata": {},
   "outputs": [
    {
     "data": {
      "text/plain": [
       "(29.398933596467007, 32.12106640353299)"
      ]
     },
     "execution_count": 18,
     "metadata": {},
     "output_type": "execute_result"
    }
   ],
   "source": [
    "non_param_ci_for_03\n"
   ]
  },
  {
   "cell_type": "markdown",
   "id": "ed039e68",
   "metadata": {},
   "source": [
    "The non parametric bootstrap confidence interval for p=0.5:"
   ]
  },
  {
   "cell_type": "code",
   "execution_count": 19,
   "id": "2249a8b7",
   "metadata": {
    "scrolled": true
   },
   "outputs": [
    {
     "data": {
      "text/plain": [
       "(48.641058186339436, 51.87894181366056)"
      ]
     },
     "execution_count": 19,
     "metadata": {},
     "output_type": "execute_result"
    }
   ],
   "source": [
    "non_param_ci_for_05"
   ]
  },
  {
   "cell_type": "markdown",
   "id": "fd95aee3",
   "metadata": {},
   "source": [
    "The non parametric bootstrap confidence interval for p=0.7:"
   ]
  },
  {
   "cell_type": "code",
   "execution_count": 20,
   "id": "451f86a3",
   "metadata": {
    "scrolled": true
   },
   "outputs": [
    {
     "data": {
      "text/plain": [
       "(68.3536474369238, 71.16635256307622)"
      ]
     },
     "execution_count": 20,
     "metadata": {},
     "output_type": "execute_result"
    }
   ],
   "source": [
    "non_param_ci_for_07"
   ]
  },
  {
   "cell_type": "markdown",
   "id": "72d3017d",
   "metadata": {},
   "source": [
    "Creating a table to compare the different confidence intervals, We will not take the percentile ci for this analysis:"
   ]
  },
  {
   "cell_type": "code",
   "execution_count": 21,
   "id": "5bf6e61f",
   "metadata": {},
   "outputs": [
    {
     "data": {
      "text/html": [
       "<table border=\"1\" class=\"dataframe\">\n",
       "  <thead>\n",
       "    <tr style=\"text-align: right;\">\n",
       "      <th></th>\n",
       "      <th>Confidence Interval Type</th>\n",
       "      <th>95% Interval</th>\n",
       "      <th>CI length</th>\n",
       "      <th>p parameter value</th>\n",
       "    </tr>\n",
       "  </thead>\n",
       "  <tbody>\n",
       "    <tr>\n",
       "      <th>0</th>\n",
       "      <td>Normal Approximation</td>\n",
       "      <td>(29.433486827506037, 32.086513172493966)</td>\n",
       "      <td>2.653026</td>\n",
       "      <td>0.3</td>\n",
       "    </tr>\n",
       "    <tr>\n",
       "      <th>1</th>\n",
       "      <td>Parametric Bootstrap</td>\n",
       "      <td>(29.48764993438164, 32.03235006561835)</td>\n",
       "      <td>2.544700</td>\n",
       "      <td>0.3</td>\n",
       "    </tr>\n",
       "    <tr>\n",
       "      <th>2</th>\n",
       "      <td>Non-parametric Bootstrap</td>\n",
       "      <td>(29.398933596467007, 32.12106640353299)</td>\n",
       "      <td>2.722133</td>\n",
       "      <td>0.3</td>\n",
       "    </tr>\n",
       "    <tr>\n",
       "      <th>3</th>\n",
       "      <td>Normal Approximation</td>\n",
       "      <td>(48.93348682750604, 51.58651317249396)</td>\n",
       "      <td>2.653026</td>\n",
       "      <td>0.5</td>\n",
       "    </tr>\n",
       "    <tr>\n",
       "      <th>4</th>\n",
       "      <td>Parametric Bootstrap</td>\n",
       "      <td>(48.901463247862544, 51.61853675213744)</td>\n",
       "      <td>2.717074</td>\n",
       "      <td>0.5</td>\n",
       "    </tr>\n",
       "    <tr>\n",
       "      <th>5</th>\n",
       "      <td>Non-parametric Bootstrap</td>\n",
       "      <td>(48.641058186339436, 51.87894181366056)</td>\n",
       "      <td>3.237884</td>\n",
       "      <td>0.5</td>\n",
       "    </tr>\n",
       "    <tr>\n",
       "      <th>6</th>\n",
       "      <td>Normal Approximation</td>\n",
       "      <td>(68.38122950539258, 71.13877049460743)</td>\n",
       "      <td>2.757541</td>\n",
       "      <td>0.7</td>\n",
       "    </tr>\n",
       "    <tr>\n",
       "      <th>7</th>\n",
       "      <td>Parametric Bootstrap</td>\n",
       "      <td>(68.4877173703076, 71.03228262969238)</td>\n",
       "      <td>2.544565</td>\n",
       "      <td>0.7</td>\n",
       "    </tr>\n",
       "    <tr>\n",
       "      <th>8</th>\n",
       "      <td>Non-parametric Bootstrap</td>\n",
       "      <td>(68.3536474369238, 71.16635256307622)</td>\n",
       "      <td>2.812705</td>\n",
       "      <td>0.7</td>\n",
       "    </tr>\n",
       "  </tbody>\n",
       "</table>"
      ],
      "text/plain": [
       "<IPython.core.display.HTML object>"
      ]
     },
     "metadata": {},
     "output_type": "display_data"
    }
   ],
   "source": [
    "data_q1a = [\n",
    "    ('Normal Approximation',normal_ci_for_03,normal_ci_for_03[1]-normal_ci_for_03[0],0.3),\n",
    "    ('Parametric Bootstrap',parametric_ci_for_03,parametric_ci_for_03[1]-parametric_ci_for_03[0],0.3),\n",
    "    ('Non-parametric Bootstrap',non_param_ci_for_03,non_param_ci_for_03[1]-non_param_ci_for_03[0],0.3),\n",
    "    ('Normal Approximation',normal_ci_for_05,normal_ci_for_05[1]-normal_ci_for_05[0],0.5),\n",
    "    ('Parametric Bootstrap',parametric_ci_for_05,parametric_ci_for_05[1]-parametric_ci_for_05[0],0.5),\n",
    "    ('Non-parametric Bootstrap',non_param_ci_for_05,non_param_ci_for_05[1]-non_param_ci_for_05[0],0.5),\n",
    "    ('Normal Approximation',normal_ci_for_07,normal_ci_for_07[1]-normal_ci_for_07[0],0.7),\n",
    "    ('Parametric Bootstrap',parametric_ci_for_07,parametric_ci_for_07[1]-parametric_ci_for_07[0],0.7),\n",
    "    ('Non-parametric Bootstrap',non_param_ci_for_07,non_param_ci_for_07[1]-non_param_ci_for_07[0],0.7)\n",
    "]\n",
    "df_q1a = pd.DataFrame(data_q1a,columns=['Confidence Interval Type ','95% Interval','CI length','p parameter value'])\n",
    "display(HTML(df_q1a.to_html()))"
   ]
  },
  {
   "cell_type": "markdown",
   "id": "e97dd78b",
   "metadata": {},
   "source": [
    "Notice that the CI length doesnt really change when using normal approximation\n",
    "same with the parametric bootstrap\n",
    "the outlier here is maybe the non-parametric bootstrap when p=0.5 but that is because the variance is bigger in this case.\n",
    "all in all things that are actually affecting the length of the CI are the sample size and the variability in the given sample and the required alpha. A bigger sample size n makes the CI length smaller, greater variability in the sample produces a longer confidence interval-this might explain the non parametric bootstrap. Additionally, a bigger confidence level cause a longer confidence interval."
   ]
  },
  {
   "cell_type": "markdown",
   "id": "c9c52a48",
   "metadata": {},
   "source": [
    "#### b)"
   ]
  },
  {
   "cell_type": "markdown",
   "id": "9f4e6670",
   "metadata": {},
   "source": [
    "The following function will take in the lambda parameter lam, and the number of averages to create.\n",
    "It will create iterate num_averages times and generate every time a sample of size 50 from the poisson distribution with the given\n",
    "lambda parameter inputted. the output of this function will be the averages of those samples."
   ]
  },
  {
   "cell_type": "code",
   "execution_count": 22,
   "id": "61c60d21",
   "metadata": {},
   "outputs": [],
   "source": [
    "np.random.seed(2070)\n",
    "def create_poisson_averages(lam, num_averages):\n",
    "    averages = []\n",
    "    for i in range(num_averages):\n",
    "        current_sample = np.random.poisson(lam=lam, size=50)\n",
    "        averages.append(np.mean(current_sample))\n",
    "    return averages\n",
    "\n",
    "# creating 1000 poisson averages. each average was calculated from a sample size of 50 and a lambda parameter of 50.\n",
    "poisson_avgs=create_poisson_averages(lam=50,num_averages=1000)"
   ]
  },
  {
   "cell_type": "code",
   "execution_count": 23,
   "id": "2c2c4dc6",
   "metadata": {},
   "outputs": [
    {
     "data": {
      "text/plain": [
       "[50.94, 49.96, 48.44, 52.04, 50.74, 50.9, 52.56, 50.08, 49.62, 47.84]"
      ]
     },
     "execution_count": 23,
     "metadata": {},
     "output_type": "execute_result"
    }
   ],
   "source": [
    "poisson_avgs[:10] # printing the first 10 poisson averages"
   ]
  },
  {
   "cell_type": "markdown",
   "id": "192f21b6",
   "metadata": {},
   "source": [
    "Coverage percentage should be easy, just calculate how many of the averages are inside the confidence interval.\n",
    "Let's inspect all the p=0.5 confidence intervals we created in a.:\n",
    "normal_ci_for_05\n",
    "parametric_ci_for_05\n",
    "non_param_ci_for_05"
   ]
  },
  {
   "cell_type": "markdown",
   "id": "9c299cca",
   "metadata": {},
   "source": [
    "Let's remember our confidence intervals for p=0.5"
   ]
  },
  {
   "cell_type": "code",
   "execution_count": 24,
   "id": "08dacf7a",
   "metadata": {},
   "outputs": [
    {
     "name": "stdout",
     "output_type": "stream",
     "text": [
      "(48.93348682750604, 51.58651317249396)\n",
      "(48.901463247862544, 51.61853675213744)\n",
      "(48.641058186339436, 51.87894181366056)\n"
     ]
    }
   ],
   "source": [
    "print(normal_ci_for_05)\n",
    "print(parametric_ci_for_05)\n",
    "print(non_param_ci_for_05)"
   ]
  },
  {
   "cell_type": "markdown",
   "id": "14a99e6d",
   "metadata": {},
   "source": [
    "The following function will take in an input_data - in our case it will take the 1000 poisson averages,\n",
    "and a CI - confidence interval we created earlier.\n",
    "the function will calculate how many averages fell into the confidence interval and will output the percentage."
   ]
  },
  {
   "cell_type": "code",
   "execution_count": 25,
   "id": "0cc41e40",
   "metadata": {},
   "outputs": [],
   "source": [
    "def coverage_percentage(input_data, CI):\n",
    "    total = len(input_data)\n",
    "    work_data = input_data\n",
    "    counter = 0\n",
    "    work_data = np.array(input_data) \n",
    "    lower_bound = CI[0]\n",
    "    upper_bound = CI[1]\n",
    "    for i in range(len(work_data)):\n",
    "        if lower_bound <= work_data[i] <= upper_bound:\n",
    "            counter+=1\n",
    "    coverage_percentage = counter / total\n",
    "    return coverage_percentage\n",
    "\n",
    "\n",
    "normal_coverage_percentage = coverage_percentage(input_data=poisson_avgs,CI=normal_ci_for_05)\n",
    "parametric_coverage_percentage = coverage_percentage(input_data=poisson_avgs,CI=parametric_ci_for_05)\n",
    "non_param_coverage_percentage = coverage_percentage(input_data=poisson_avgs,CI=non_param_ci_for_05)"
   ]
  },
  {
   "cell_type": "markdown",
   "id": "2cd276a6",
   "metadata": {},
   "source": [
    "The coverage percentages of the poisson data using the Binomial Confidence intervals is :"
   ]
  },
  {
   "cell_type": "code",
   "execution_count": 26,
   "id": "c449c0ce",
   "metadata": {},
   "outputs": [
    {
     "data": {
      "text/plain": [
       "0.787"
      ]
     },
     "execution_count": 26,
     "metadata": {},
     "output_type": "execute_result"
    }
   ],
   "source": [
    "normal_coverage_percentage"
   ]
  },
  {
   "cell_type": "code",
   "execution_count": 27,
   "id": "d186d110",
   "metadata": {},
   "outputs": [
    {
     "data": {
      "text/plain": [
       "0.793"
      ]
     },
     "execution_count": 27,
     "metadata": {},
     "output_type": "execute_result"
    }
   ],
   "source": [
    "parametric_coverage_percentage"
   ]
  },
  {
   "cell_type": "code",
   "execution_count": 28,
   "id": "4bf2f316",
   "metadata": {},
   "outputs": [
    {
     "data": {
      "text/plain": [
       "0.865"
      ]
     },
     "execution_count": 28,
     "metadata": {},
     "output_type": "execute_result"
    }
   ],
   "source": [
    "non_param_coverage_percentage"
   ]
  },
  {
   "cell_type": "markdown",
   "id": "8069448f",
   "metadata": {},
   "source": [
    "The results are pretty good, we can see that a high percentage of averages actually fell into the binomial confidence intervals\n",
    "despite coming from a poisson distribution.\n",
    "We believe we got these nice results because there's this theorem which states that\n",
    "if \n",
    "\n",
    "$X \\sim bin(n,p) $\n",
    "\n",
    "and\n",
    "\n",
    "$\\lambda = np$\n",
    "\n",
    "\n",
    "then\n",
    "\n",
    "$ l  i  m_{n\\to\\infty} P[X=x] = \\frac{{e^{ - \\lambda } \\lambda ^x }}{{x!}}$"
   ]
  },
  {
   "cell_type": "markdown",
   "id": "c26f74ce",
   "metadata": {},
   "source": [
    "Note that in our case $n=100, p =0.5,\\lambda =50$"
   ]
  },
  {
   "cell_type": "markdown",
   "id": "2589848a",
   "metadata": {},
   "source": [
    "In other words, as n gets bigger and bigger we can approximate binomial probabilities with poisson probabilities. So this, we believe, explains these pretty decent coverage percentages."
   ]
  },
  {
   "cell_type": "markdown",
   "id": "39126d20",
   "metadata": {},
   "source": [
    "#### c) Repeating (1.a) with 50 i.i.d samples from Pois(50), and compare the confidence intervals\n",
    "#### of (1.a) and (1.c)\n"
   ]
  },
  {
   "cell_type": "markdown",
   "id": "a7286a5d",
   "metadata": {},
   "source": [
    "mle of poisson is the sample average, so we will have to calculate it.\n",
    "se of the poisson is sqrt(mle/n)\n",
    "n=50."
   ]
  },
  {
   "cell_type": "code",
   "execution_count": 29,
   "id": "b4e732e8",
   "metadata": {},
   "outputs": [
    {
     "name": "stdout",
     "output_type": "stream",
     "text": [
      "The 50 i.i.d samples from pois(50) are  \n",
      "  [47 52 57 52 52 40 41 49 46 44 56 66 58 48 41 59 45 45 43 59 47 57 59 46\n",
      " 51 58 48 44 46 53 54 47 60 53 54 48 50 54 49 51 52 55 41 56 45 44 60 54\n",
      " 54 57]\n",
      "\n",
      "The MLE is 50.94\n"
     ]
    }
   ],
   "source": [
    "np.random.seed(2070)\n",
    "fifty_poisson_samples = np.random.poisson(lam=50,size=50)\n",
    "poisson_mle = np.mean(fifty_poisson_samples)\n",
    "print('The 50 i.i.d samples from pois(50) are  \\n ', fifty_poisson_samples)\n",
    "print('')\n",
    "print('The MLE is',poisson_mle)"
   ]
  },
  {
   "cell_type": "markdown",
   "id": "1c2f7c47",
   "metadata": {},
   "source": [
    "* Normal Approximation Confidence interval"
   ]
  },
  {
   "cell_type": "code",
   "execution_count": 30,
   "id": "6cd426c7",
   "metadata": {},
   "outputs": [
    {
     "data": {
      "text/plain": [
       "(48.96166178826773, 52.91833821173226)"
      ]
     },
     "execution_count": 30,
     "metadata": {},
     "output_type": "execute_result"
    }
   ],
   "source": [
    "normal_pois_ci = (poisson_mle-z_95_conf*np.sqrt(poisson_mle/50), poisson_mle+z_95_conf*np.sqrt(poisson_mle/50))\n",
    "normal_pois_ci"
   ]
  },
  {
   "cell_type": "markdown",
   "id": "164e7776",
   "metadata": {},
   "source": [
    "* Parametric Confidence interval"
   ]
  },
  {
   "cell_type": "code",
   "execution_count": 31,
   "id": "d568603d",
   "metadata": {},
   "outputs": [],
   "source": [
    "np.random.seed(2070)\n",
    "# same idea as the earlier question, just this time simulating from the poisson distribution.\n",
    "def parametric_poisson_bootstrap(mle,B):\n",
    "    T_boot = []\n",
    "    for i in range(B):\n",
    "        current_draw = np.random.poisson(lam=mle,size=50)\n",
    "        T_boot.append(np.mean(current_draw))\n",
    "    bootstrap_mean = np.sum(T_boot) / B\n",
    "    new_tboot=(T_boot-bootstrap_mean) ** 2\n",
    "    vboot = np.mean(new_tboot)\n",
    "    return vboot\n",
    "parametric_poisson_vboot = parametric_poisson_bootstrap(mle=poisson_mle,B=10000)"
   ]
  },
  {
   "cell_type": "code",
   "execution_count": 32,
   "id": "7cba56e0",
   "metadata": {},
   "outputs": [],
   "source": [
    "param_pois_ci=(poisson_mle - z_95_conf * np.sqrt(parametric_poisson_vboot), poisson_mle + z_95_conf * np.sqrt(parametric_poisson_vboot))"
   ]
  },
  {
   "cell_type": "code",
   "execution_count": 33,
   "id": "a3e73fe6",
   "metadata": {},
   "outputs": [
    {
     "data": {
      "text/plain": [
       "(48.96024737825761, 52.91975262174238)"
      ]
     },
     "execution_count": 33,
     "metadata": {},
     "output_type": "execute_result"
    }
   ],
   "source": [
    "param_pois_ci"
   ]
  },
  {
   "cell_type": "markdown",
   "id": "771b18de",
   "metadata": {},
   "source": [
    "* non parametric Confidence interval\n"
   ]
  },
  {
   "cell_type": "code",
   "execution_count": 34,
   "id": "9a2a5f72",
   "metadata": {},
   "outputs": [],
   "source": [
    "poisson_non_param_vboot = non_parametric_bootstrap(data=fifty_poisson_samples,B=1000)"
   ]
  },
  {
   "cell_type": "code",
   "execution_count": 35,
   "id": "7b1a6bc0",
   "metadata": {},
   "outputs": [],
   "source": [
    "non_param_pois_ci = (poisson_mle - z_95_conf * np.sqrt(poisson_non_param_vboot), poisson_mle + z_95_conf * np.sqrt(poisson_non_param_vboot))"
   ]
  },
  {
   "cell_type": "code",
   "execution_count": 36,
   "id": "60e63d52",
   "metadata": {
    "scrolled": true
   },
   "outputs": [
    {
     "data": {
      "text/plain": [
       "(49.2999645802898, 52.58003541971019)"
      ]
     },
     "execution_count": 36,
     "metadata": {},
     "output_type": "execute_result"
    }
   ],
   "source": [
    "non_param_pois_ci"
   ]
  },
  {
   "cell_type": "markdown",
   "id": "f36af992",
   "metadata": {},
   "source": [
    "* Table for Comparison of the CI's"
   ]
  },
  {
   "cell_type": "code",
   "execution_count": 37,
   "id": "76ceee03",
   "metadata": {},
   "outputs": [
    {
     "data": {
      "text/html": [
       "<table border=\"1\" class=\"dataframe\">\n",
       "  <thead>\n",
       "    <tr style=\"text-align: right;\">\n",
       "      <th></th>\n",
       "      <th>Distribution</th>\n",
       "      <th>Confidence Interval Type</th>\n",
       "      <th>95% Interval</th>\n",
       "      <th>CI length</th>\n",
       "      <th>parameter values</th>\n",
       "    </tr>\n",
       "  </thead>\n",
       "  <tbody>\n",
       "    <tr>\n",
       "      <th>0</th>\n",
       "      <td>Binomial</td>\n",
       "      <td>Normal Approximation</td>\n",
       "      <td>(29.433486827506037, 32.086513172493966)</td>\n",
       "      <td>2.653026</td>\n",
       "      <td>n=100, p=0.3</td>\n",
       "    </tr>\n",
       "    <tr>\n",
       "      <th>1</th>\n",
       "      <td>Binomial</td>\n",
       "      <td>Parametric Bootstrap</td>\n",
       "      <td>(29.48764993438164, 32.03235006561835)</td>\n",
       "      <td>2.544700</td>\n",
       "      <td>n=100, p=0.3</td>\n",
       "    </tr>\n",
       "    <tr>\n",
       "      <th>2</th>\n",
       "      <td>Binomial</td>\n",
       "      <td>Non-parametric Bootstrap</td>\n",
       "      <td>(29.398933596467007, 32.12106640353299)</td>\n",
       "      <td>2.722133</td>\n",
       "      <td>n=100, p=0.3</td>\n",
       "    </tr>\n",
       "    <tr>\n",
       "      <th>3</th>\n",
       "      <td>Binomial</td>\n",
       "      <td>Normal Approximation</td>\n",
       "      <td>(48.93348682750604, 51.58651317249396)</td>\n",
       "      <td>2.653026</td>\n",
       "      <td>n=100, p=0.5</td>\n",
       "    </tr>\n",
       "    <tr>\n",
       "      <th>4</th>\n",
       "      <td>Binomial</td>\n",
       "      <td>Parametric Bootstrap</td>\n",
       "      <td>(48.901463247862544, 51.61853675213744)</td>\n",
       "      <td>2.717074</td>\n",
       "      <td>n=100, p=0.5</td>\n",
       "    </tr>\n",
       "    <tr>\n",
       "      <th>5</th>\n",
       "      <td>Binomial</td>\n",
       "      <td>Non-parametric Bootstrap</td>\n",
       "      <td>(48.641058186339436, 51.87894181366056)</td>\n",
       "      <td>3.237884</td>\n",
       "      <td>n=100, p=0.5</td>\n",
       "    </tr>\n",
       "    <tr>\n",
       "      <th>6</th>\n",
       "      <td>Binomial</td>\n",
       "      <td>Normal Approximation</td>\n",
       "      <td>(68.38122950539258, 71.13877049460743)</td>\n",
       "      <td>2.757541</td>\n",
       "      <td>n=100, p=0.7</td>\n",
       "    </tr>\n",
       "    <tr>\n",
       "      <th>7</th>\n",
       "      <td>Binomial</td>\n",
       "      <td>Parametric Bootstrap</td>\n",
       "      <td>(68.4877173703076, 71.03228262969238)</td>\n",
       "      <td>2.544565</td>\n",
       "      <td>n=100, p=0.7</td>\n",
       "    </tr>\n",
       "    <tr>\n",
       "      <th>8</th>\n",
       "      <td>Binomial</td>\n",
       "      <td>Non-parametric Bootstrap</td>\n",
       "      <td>(68.3536474369238, 71.16635256307622)</td>\n",
       "      <td>2.812705</td>\n",
       "      <td>n=100, p=0.7</td>\n",
       "    </tr>\n",
       "    <tr>\n",
       "      <th>9</th>\n",
       "      <td>Poisson</td>\n",
       "      <td>Normal Approximation</td>\n",
       "      <td>(48.96166178826773, 52.91833821173226)</td>\n",
       "      <td>3.956676</td>\n",
       "      <td>lambda=50</td>\n",
       "    </tr>\n",
       "    <tr>\n",
       "      <th>10</th>\n",
       "      <td>Poisson</td>\n",
       "      <td>Parametric Bootstrap</td>\n",
       "      <td>(48.96024737825761, 52.91975262174238)</td>\n",
       "      <td>3.959505</td>\n",
       "      <td>lambda=50</td>\n",
       "    </tr>\n",
       "    <tr>\n",
       "      <th>11</th>\n",
       "      <td>Poisson</td>\n",
       "      <td>Non-parametric Bootstrap</td>\n",
       "      <td>(49.2999645802898, 52.58003541971019)</td>\n",
       "      <td>3.280071</td>\n",
       "      <td>lambda=50</td>\n",
       "    </tr>\n",
       "  </tbody>\n",
       "</table>"
      ],
      "text/plain": [
       "<IPython.core.display.HTML object>"
      ]
     },
     "metadata": {},
     "output_type": "display_data"
    }
   ],
   "source": [
    "data_q1c = [\n",
    "    ('Binomial','Normal Approximation',normal_ci_for_03,normal_ci_for_03[1]-normal_ci_for_03[0],'n=100, p=0.3'),\n",
    "    ('Binomial','Parametric Bootstrap',parametric_ci_for_03,parametric_ci_for_03[1]-parametric_ci_for_03[0],'n=100, p=0.3'),\n",
    "    ('Binomial','Non-parametric Bootstrap',non_param_ci_for_03,non_param_ci_for_03[1]-non_param_ci_for_03[0],'n=100, p=0.3'),\n",
    "    ('Binomial','Normal Approximation',normal_ci_for_05,normal_ci_for_05[1]-normal_ci_for_05[0],'n=100, p=0.5'),\n",
    "    ('Binomial','Parametric Bootstrap',parametric_ci_for_05,parametric_ci_for_05[1]-parametric_ci_for_05[0],'n=100, p=0.5'),\n",
    "    ('Binomial','Non-parametric Bootstrap',non_param_ci_for_05,non_param_ci_for_05[1]-non_param_ci_for_05[0],'n=100, p=0.5'),\n",
    "    ('Binomial','Normal Approximation',normal_ci_for_07,normal_ci_for_07[1]-normal_ci_for_07[0],'n=100, p=0.7'),\n",
    "    ('Binomial','Parametric Bootstrap',parametric_ci_for_07,parametric_ci_for_07[1]-parametric_ci_for_07[0],'n=100, p=0.7'),\n",
    "    ('Binomial','Non-parametric Bootstrap',non_param_ci_for_07,non_param_ci_for_07[1]-non_param_ci_for_07[0],'n=100, p=0.7'),\n",
    "    ('Poisson','Normal Approximation',normal_pois_ci,normal_pois_ci[1]-normal_pois_ci[0],'lambda=50'),\n",
    "    ('Poisson','Parametric Bootstrap',param_pois_ci,param_pois_ci[1]-param_pois_ci[0],'lambda=50'),\n",
    "    ('Poisson','Non-parametric Bootstrap',non_param_pois_ci,non_param_pois_ci[1]-non_param_pois_ci[0],'lambda=50')\n",
    "]\n",
    "df_q1c = pd.DataFrame(data_q1c,columns=['Distribution','Confidence Interval Type ','95% Interval','CI length','parameter values'])\n",
    "display(HTML(df_q1c.to_html()))"
   ]
  },
  {
   "cell_type": "markdown",
   "id": "c9f3dc86",
   "metadata": {},
   "source": [
    "First of all we can see that the poisson CI length is the biggest in all three confidence interval types, \n",
    "the ci lengths are all above 3. While the binomial is above 3 just in the case where its a non-parametric bootstrap(which might also be a rare case which happened just because of our set.seed(2070) ), with a parameter value of p=0.5. for the poisson distribution we can see that the CI is always bigger then 3.\n",
    "\n",
    "\n",
    "Second of all we can see that when the parameter value of the poisson is 50, the 95% confidence interval is very \n",
    "similar to the 95% confidence interval with binomial with parameters n=100 and p=0.5"
   ]
  },
  {
   "cell_type": "code",
   "execution_count": 38,
   "id": "f23ab01f",
   "metadata": {},
   "outputs": [
    {
     "data": {
      "text/html": [
       "<table border=\"1\" class=\"dataframe\">\n",
       "  <thead>\n",
       "    <tr style=\"text-align: right;\">\n",
       "      <th></th>\n",
       "      <th>Distribution</th>\n",
       "      <th>Confidence Interval Type</th>\n",
       "      <th>95% Interval</th>\n",
       "      <th>CI length</th>\n",
       "      <th>parameter values</th>\n",
       "    </tr>\n",
       "  </thead>\n",
       "  <tbody>\n",
       "    <tr>\n",
       "      <th>0</th>\n",
       "      <td>Binomial</td>\n",
       "      <td>Normal Approximation</td>\n",
       "      <td>(48.93348682750604, 51.58651317249396)</td>\n",
       "      <td>2.653026</td>\n",
       "      <td>n=100, p=0.5</td>\n",
       "    </tr>\n",
       "    <tr>\n",
       "      <th>1</th>\n",
       "      <td>Binomial</td>\n",
       "      <td>Parametric Bootstrap</td>\n",
       "      <td>(48.901463247862544, 51.61853675213744)</td>\n",
       "      <td>2.717074</td>\n",
       "      <td>n=100, p=0.5</td>\n",
       "    </tr>\n",
       "    <tr>\n",
       "      <th>2</th>\n",
       "      <td>Binomial</td>\n",
       "      <td>Non-parametric Bootstrap</td>\n",
       "      <td>(48.641058186339436, 51.87894181366056)</td>\n",
       "      <td>3.237884</td>\n",
       "      <td>n=100, p=0.5</td>\n",
       "    </tr>\n",
       "    <tr>\n",
       "      <th>3</th>\n",
       "      <td>Poisson</td>\n",
       "      <td>Normal Approximation</td>\n",
       "      <td>(48.96166178826773, 52.91833821173226)</td>\n",
       "      <td>3.956676</td>\n",
       "      <td>lambda=50</td>\n",
       "    </tr>\n",
       "    <tr>\n",
       "      <th>4</th>\n",
       "      <td>Poisson</td>\n",
       "      <td>Parametric Bootstrap</td>\n",
       "      <td>(48.96024737825761, 52.91975262174238)</td>\n",
       "      <td>3.959505</td>\n",
       "      <td>lambda=50</td>\n",
       "    </tr>\n",
       "    <tr>\n",
       "      <th>5</th>\n",
       "      <td>Poisson</td>\n",
       "      <td>Non-parametric Bootstrap</td>\n",
       "      <td>(49.2999645802898, 52.58003541971019)</td>\n",
       "      <td>3.280071</td>\n",
       "      <td>lambda=50</td>\n",
       "    </tr>\n",
       "  </tbody>\n",
       "</table>"
      ],
      "text/plain": [
       "<IPython.core.display.HTML object>"
      ]
     },
     "metadata": {},
     "output_type": "display_data"
    }
   ],
   "source": [
    "data_q1c2 = [\n",
    "    ('Binomial','Normal Approximation',normal_ci_for_05,normal_ci_for_05[1]-normal_ci_for_05[0],'n=100, p=0.5'),\n",
    "    ('Binomial','Parametric Bootstrap',parametric_ci_for_05,parametric_ci_for_05[1]-parametric_ci_for_05[0],'n=100, p=0.5'),\n",
    "    ('Binomial','Non-parametric Bootstrap',non_param_ci_for_05,non_param_ci_for_05[1]-non_param_ci_for_05[0],'n=100, p=0.5'),\n",
    "    ('Poisson','Normal Approximation',normal_pois_ci,normal_pois_ci[1]-normal_pois_ci[0],'lambda=50'),\n",
    "    ('Poisson','Parametric Bootstrap',param_pois_ci,param_pois_ci[1]-param_pois_ci[0],'lambda=50'),\n",
    "    ('Poisson','Non-parametric Bootstrap',non_param_pois_ci,non_param_pois_ci[1]-non_param_pois_ci[0],'lambda=50')\n",
    "]\n",
    "df_q1c2 = pd.DataFrame(data_q1c2,columns=['Distribution','Confidence Interval Type ','95% Interval','CI length','parameter values'])\n",
    "display(HTML(df_q1c2.to_html()))"
   ]
  },
  {
   "cell_type": "markdown",
   "id": "6b925fb8",
   "metadata": {},
   "source": [
    "This makes sense because of the theorem we stated above, because under certain conditions, binomial distributions converge to Poisson distributions. So these distributions are very similar in a sense."
   ]
  },
  {
   "cell_type": "markdown",
   "id": "7b09554f",
   "metadata": {},
   "source": [
    "#### d)"
   ]
  },
  {
   "cell_type": "markdown",
   "id": "be171350",
   "metadata": {},
   "source": [
    "$$\n",
    "f(k) = (1 - p) ^ {k-1}p \\qquad \\qquad k=1,2,3,4,5\\ldots \\, .\n",
    "$$"
   ]
  },
  {
   "cell_type": "markdown",
   "id": "b358f979",
   "metadata": {},
   "source": [
    "\n",
    "The geometric distribution models the number of trials that must be run in order to achieve success. It is therefore supported on the positive integers, k = 1, 2, ....\n",
    "\n",
    "The probability mass function of the geometric distribution is\n",
    "\n",
    "f(k) = (1 - p)^{k - 1} * p\n",
    "where p is the probability of success of an individual trial."
   ]
  },
  {
   "cell_type": "markdown",
   "id": "30e2feb5",
   "metadata": {},
   "source": [
    "We will model the number of frutis as follows:\n",
    "    \n",
    "suppose either adam or eve goes to a tree and shakes it, every time the tree is shaken a SINGLE(JUST ONE!) fruit will ALWAYS fall off (as long as there's actually fruits on the tree) and they count it as one of the fruits. They shake the tree until no fruits fall off. Just a single fruit can fall off the tree from one \"shake\".\n",
    "the success in our geometric model is defined as the event when they shake the tree and no fruit falls off. In this world, if you shake a tree and no fruit falls off, it means that there are no fruits on the tree. This is like a \"greedy algorithm\" world.\n",
    "\n",
    "We shall choose p=1/50\n",
    "so the mean of the geometric distribution will be 50.\n"
   ]
  },
  {
   "cell_type": "markdown",
   "id": "3669b114",
   "metadata": {},
   "source": [
    "We will show numerically that this distribution will have a coverage percentage smaller than 95%. "
   ]
  },
  {
   "cell_type": "code",
   "execution_count": 39,
   "id": "0c5f9eb8",
   "metadata": {},
   "outputs": [
    {
     "data": {
      "text/plain": [
       "[58.16, 44.92, 44.38, 45.74, 50.2, 49.84, 44.46, 46.36, 46.74, 43.4]"
      ]
     },
     "execution_count": 39,
     "metadata": {},
     "output_type": "execute_result"
    }
   ],
   "source": [
    "np.random.seed(2070)\n",
    "# creating 1000 geometric averages from samples of size =50 with p=1/50 such that the E[x]=50\n",
    "def create_geometric_averages(p, num_averages):\n",
    "    averages = []\n",
    "    for i in range(num_averages):\n",
    "        current_sample = np.random.geometric(p=p, size=50)\n",
    "        averages.append(np.mean(current_sample))\n",
    "    return averages\n",
    "\n",
    "\n",
    "geometric_avgs=create_geometric_averages(p=1/50,num_averages=1000)\n",
    "geometric_avgs[:10] # printing the first 10 averages"
   ]
  },
  {
   "cell_type": "markdown",
   "id": "205184de",
   "metadata": {},
   "source": [
    "Now that we have the 1000 averages, we will use the coverage_percentage function to calculate the coverage percentage.\n",
    "all we need to input to this function is the averages and the ci we want to test."
   ]
  },
  {
   "cell_type": "markdown",
   "id": "332dfed7",
   "metadata": {},
   "source": [
    "We will check the coverage percentages with the 1000 geometric averages and the poisson CIs."
   ]
  },
  {
   "cell_type": "code",
   "execution_count": 40,
   "id": "e1722f46",
   "metadata": {},
   "outputs": [],
   "source": [
    "norm_cov_per_geomData_poisCI = coverage_percentage(input_data=geometric_avgs, CI=normal_pois_ci)\n",
    "parametric_cov_per_geomData_poisCI = coverage_percentage(input_data=geometric_avgs, CI=param_pois_ci)\n",
    "non_parametric_cov_per_geomData_poisCI = coverage_percentage(input_data=geometric_avgs, CI=non_param_pois_ci)"
   ]
  },
  {
   "cell_type": "markdown",
   "id": "b73212b3",
   "metadata": {},
   "source": [
    "Coverage percentage when using 1000 geometric averages as defined in the question and a normal approximation poisson CI"
   ]
  },
  {
   "cell_type": "code",
   "execution_count": 41,
   "id": "f783ff7c",
   "metadata": {},
   "outputs": [
    {
     "data": {
      "text/plain": [
       "0.215"
      ]
     },
     "execution_count": 41,
     "metadata": {},
     "output_type": "execute_result"
    }
   ],
   "source": [
    "norm_cov_per_geomData_poisCI"
   ]
  },
  {
   "cell_type": "markdown",
   "id": "1fed9eda",
   "metadata": {},
   "source": [
    "Coverage percentage when using 1000 geometric averages as defined in the question and a parametric poisson CI"
   ]
  },
  {
   "cell_type": "code",
   "execution_count": 42,
   "id": "32811f7b",
   "metadata": {},
   "outputs": [
    {
     "data": {
      "text/plain": [
       "0.215"
      ]
     },
     "execution_count": 42,
     "metadata": {},
     "output_type": "execute_result"
    }
   ],
   "source": [
    "parametric_cov_per_geomData_poisCI"
   ]
  },
  {
   "cell_type": "markdown",
   "id": "dcd53f6e",
   "metadata": {},
   "source": [
    "Coverage percentage when using 1000 geometric averages as defined in the question and a non parametric poisson CI"
   ]
  },
  {
   "cell_type": "code",
   "execution_count": 43,
   "id": "1143b23e",
   "metadata": {
    "scrolled": true
   },
   "outputs": [
    {
     "data": {
      "text/plain": [
       "0.187"
      ]
     },
     "execution_count": 43,
     "metadata": {},
     "output_type": "execute_result"
    }
   ],
   "source": [
    "non_parametric_cov_per_geomData_poisCI"
   ]
  },
  {
   "cell_type": "markdown",
   "id": "91bdc7c5",
   "metadata": {},
   "source": [
    "We can easily see that all the 3 CI provide a disappointing, under 95%, coverage percentage.\n",
    "We choose the geometric distribution because we know from probability class that the geometric distribution converges essentially to the exponential distribution (in certain conditions) and not to the poisson. In other words, we know that geometric and poisson distributions are not really \"related\" in a sense."
   ]
  },
  {
   "cell_type": "markdown",
   "id": "e8e57158",
   "metadata": {},
   "source": [
    "$\\blacksquare$"
   ]
  },
  {
   "cell_type": "markdown",
   "id": "20bda0a0",
   "metadata": {},
   "source": [
    "##  Question 2 Hypotheses Testing\n"
   ]
  },
  {
   "cell_type": "markdown",
   "id": "426ce4a8",
   "metadata": {},
   "source": [
    "#### a)"
   ]
  },
  {
   "cell_type": "markdown",
   "id": "6cdc8cf8",
   "metadata": {},
   "source": [
    "A non-parametric test to Eve to check whether Adam is cheating, i.e., whether the two samples are from the same distribution,\n",
    "but not with the same expectation(with some confidence level 1 − α)\n",
    "is the permutation test for testing H0 : FX = FY versus H1 : FX != FY.(X:=Eve,Y:=Adam)\n",
    "T(x1,...,xm, y1,...,yn) is the test statistic: T(X1,...,Xm, Y1,...,Yn) = |mean(Xm) − mean(Yn)|   \n",
    "\n",
    "Let N = m +n and consider forming all N! permutations of the data X1, ...,Xm, Y1, ..., Yn. \n",
    "For each permutation, compute the test statistic T. Usually, it is not practical to evaluate all N! permutations.\n",
    "so We can approximate the p-value by sampling randomly from the set of permutations. The fraction of times Tj > tobs \n",
    "among these samples approximates the p-value.\n",
    "Below is the calculation method of the algorithm for calculating the approximation to the p-value:"
   ]
  },
  {
   "cell_type": "code",
   "execution_count": 44,
   "id": "27e778b0",
   "metadata": {
    "scrolled": true
   },
   "outputs": [
    {
     "data": {
      "image/png": "[encoded data removed]",
      "text/plain": [
       "<IPython.core.display.Image object>"
      ]
     },
     "execution_count": 44,
     "metadata": {
      "image/png": {
       "height": 500,
       "width": 550
      }
     },
     "output_type": "execute_result"
    }
   ],
   "source": [
    "from IPython.display import Image\n",
    "Image(r\"Y:\\52015\\permutationtestpic.png\", width=550, height=500)"
   ]
  },
  {
   "cell_type": "markdown",
   "id": "0d705ac8",
   "metadata": {},
   "source": [
    "Let our \n",
    "confidence level be $1 − α$\n",
    "\n",
    "\n",
    "\n",
    "$\\alpha\\ = 0.05 $"
   ]
  },
  {
   "cell_type": "markdown",
   "id": "47368cec",
   "metadata": {},
   "source": [
    "reject the null hypothesis if the p value is smaller than alpha."
   ]
  },
  {
   "cell_type": "markdown",
   "id": "eef223ad",
   "metadata": {},
   "source": [
    "#### b)"
   ]
  },
  {
   "cell_type": "markdown",
   "id": "34738ac3",
   "metadata": {},
   "source": [
    "###### (i) Adam is not cheating"
   ]
  },
  {
   "cell_type": "markdown",
   "id": "612464f1",
   "metadata": {},
   "source": [
    "For Adam's data, we will simulate 50 poisson iid random variables with lambda = 50, same for Eve."
   ]
  },
  {
   "cell_type": "code",
   "execution_count": 45,
   "id": "3509e1ac",
   "metadata": {},
   "outputs": [
    {
     "name": "stdout",
     "output_type": "stream",
     "text": [
      "first 10 items of Adam's data set [47 52 57 52 52 40 41 49 46 44]\n",
      "\n",
      "Our test statistic is  0.9799999999999969\n"
     ]
    }
   ],
   "source": [
    "np.random.seed(2070)\n",
    "A_i = np.random.poisson(lam=50, size=50) # Adam's data\n",
    "E = np.random.poisson(lam=50,size=50) # Eve's data, note that we will reuse this data set.\n",
    "A_i[:10], E[:10]# printing the first 10 of adam and first 10 of eve.\n",
    "t_obs_i =np.absolute(np.mean(A_i) - np.mean(E)) # our test statistic.\n",
    "print(\"first 10 items of Adam's data set\",A_i[:10])\n",
    "print(\"\")\n",
    "print(\"Our test statistic is \",t_obs_i)"
   ]
  },
  {
   "cell_type": "markdown",
   "id": "7def439b",
   "metadata": {},
   "source": [
    "Creating a permutation test function which will perform the permutation test, with the test statistic being the one we created above\n"
   ]
  },
  {
   "cell_type": "markdown",
   "id": "a660c5a7",
   "metadata": {},
   "source": [
    "The following function takes in Adam's data, Eve's data, B = the number of statistics we want to create, and a confidence_level.\n",
    "the function will perform extactly what we showed in Q2-a).\n",
    "we will permute the inputted data B times and calculate the test statistic.\n",
    "Our p_value for the permutation test will be the number of permutation statistics which were greater than the original\n",
    "observed statistic, divided by the total number of statistics we created from permuting the data (B).\n",
    "the function will perform the calculations and tell us if we reject the null, or if we fail to reject the null."
   ]
  },
  {
   "cell_type": "code",
   "execution_count": 46,
   "id": "74cf0898",
   "metadata": {},
   "outputs": [],
   "source": [
    "def permutation_test(Adam,Eve,B,confidence_level):\n",
    "    alpha = np.round(1 - confidence_level,5)\n",
    "    t_obs = np.absolute(np.mean(Adam) - np.mean(Eve)) # Compute the observed value of the test statistic t_obs\n",
    "    full_data = np.concatenate((Adam,Eve))\n",
    "    statistics = [] # hold the statistics \n",
    "    # computing the B statistics by permuting the data\n",
    "    for i in range(B):\n",
    "        permuted_data = np.random.permutation(full_data).reshape(2,50) # permuting the full data, and then reshaping it to X and Y\n",
    "        X = permuted_data[0]\n",
    "        Y = permuted_data[1]\n",
    "        current_statistic = np.absolute(np.mean(X) - np.mean(Y))\n",
    "        statistics.append(current_statistic)\n",
    "    # computing the approximate p value:\n",
    "    counter = 0 # counting how many permutation statistics are greater than the original, observed statistic t_obs\n",
    "    for s in range(len(statistics)):\n",
    "        if statistics[s] > t_obs:\n",
    "            counter+=1\n",
    "    p_value= counter/B\n",
    "    print(\"The P value is:\",p_value,\"  t obs:\",t_obs,\"  Alpha:\",alpha)\n",
    "    if (p_value < alpha):\n",
    "        print(\"Reject the Null\")\n",
    "    else:\n",
    "        print(\"Failed To Reject the Null\")\n",
    "        "
   ]
  },
  {
   "cell_type": "markdown",
   "id": "4c581136",
   "metadata": {},
   "source": [
    "Remember, we are testing the following:"
   ]
  },
  {
   "cell_type": "markdown",
   "id": "7b74f220",
   "metadata": {},
   "source": [
    "$ H_0 : F_A = F_E$\n",
    "\n",
    "vs.\n",
    "\n",
    "$ H_1 : F_A \\neq F_E $\n",
    "\n",
    "where\n",
    "$ F_A $ is Adam's sample and $F_E$ is Eve's sample"
   ]
  },
  {
   "cell_type": "code",
   "execution_count": 47,
   "id": "4a19d969",
   "metadata": {
    "scrolled": true
   },
   "outputs": [
    {
     "name": "stdout",
     "output_type": "stream",
     "text": [
      "The P value is: 0.4419   t obs: 0.9799999999999969   Alpha: 0.05\n",
      "Failed To Reject the Null\n"
     ]
    }
   ],
   "source": [
    "np.random.seed(2070)\n",
    "permutation_test(Adam=A_i,Eve=E,B=10000,confidence_level=0.95)"
   ]
  },
  {
   "cell_type": "markdown",
   "id": "616c4dd0",
   "metadata": {},
   "source": [
    "Our permutation test with a confidence level of 95% failed to reject the null.\n",
    "In other words, it is safe to say that Adam is not Cheating, with a 95% confidence."
   ]
  },
  {
   "cell_type": "markdown",
   "id": "835af7db",
   "metadata": {},
   "source": [
    "###### (ii) Adam is adding a constant number 5 to each count\n"
   ]
  },
  {
   "cell_type": "code",
   "execution_count": 48,
   "id": "7bc1417c",
   "metadata": {},
   "outputs": [
    {
     "name": "stdout",
     "output_type": "stream",
     "text": [
      "The P value is: 0.0   t obs: 5.979999999999997   Alpha: 0.05\n",
      "Reject the Null\n"
     ]
    }
   ],
   "source": [
    "###### (ii) Adam is adding a constant number 5 to each count\n",
    "np.random.seed(2070)\n",
    "A_ii = np.random.poisson(lam=50, size=50) +5  # Adam's data but this time he is adding a constant number 5 to each count\n",
    "t_obs_ii = np.absolute(np.mean(A_ii) - np.mean(E))\n",
    "A_ii[:10], t_obs_ii\n",
    "np.random.seed(2070)\n",
    "permutation_test(Adam=A_ii,Eve=E,B=10000,confidence_level=0.95)"
   ]
  },
  {
   "cell_type": "markdown",
   "id": "c82f9190",
   "metadata": {},
   "source": [
    "Our permutation test Reject's the null.\n",
    "In other words, we can say with a 95% confidence that adam is cheating."
   ]
  },
  {
   "cell_type": "markdown",
   "id": "49e4ce44",
   "metadata": {},
   "source": [
    "###### (iii) Adam is sampling another independent Pois(5) after he counts each tree, and he adds it to the count of the tree"
   ]
  },
  {
   "cell_type": "code",
   "execution_count": 49,
   "id": "17d0e026",
   "metadata": {},
   "outputs": [
    {
     "name": "stdout",
     "output_type": "stream",
     "text": [
      "The P value is: 0.0018   t obs: 4.759999999999998   Alpha: 0.05\n",
      "Reject the Null\n"
     ]
    }
   ],
   "source": [
    "# adam is sampling another independent pois(5) after he counts each tree and he adds it to the count of the tree\n",
    "A_pois50 = np.random.poisson(lam=50, size=50)\n",
    "A_pois5 = np.random.poisson(lam=5,size=50)\n",
    "# adds them up\n",
    "A_iii = A_pois50 + A_pois5\n",
    "np.random.seed(2070)\n",
    "permutation_test(Adam=A_iii,Eve=E,B=10000,confidence_level=0.95)"
   ]
  },
  {
   "cell_type": "markdown",
   "id": "0d4ee498",
   "metadata": {},
   "source": [
    "Our permutation test rejects the null.\n",
    "In other words, we can say with a 95% confidence that adam is indeed cheating."
   ]
  },
  {
   "cell_type": "markdown",
   "id": "db720d0f",
   "metadata": {},
   "source": [
    "#### c)"
   ]
  },
  {
   "cell_type": "markdown",
   "id": "f33dc3ad",
   "metadata": {},
   "source": [
    "Note that if Adam is cheating according to (iii), and if the apples have a P ois(50) distribution, then Adam is actually sampling from P ois(55) distribution. Suggest two parametric\n",
    "tests to determine whether Adam is cheating or not in this case (i.e., H0 : λ = 50, H1 :\n",
    "λ = 55) with confidence level 95%. Show with simulations that you indeed obtained the\n",
    "desired confidence level."
   ]
  },
  {
   "cell_type": "markdown",
   "id": "91d40a51",
   "metadata": {},
   "source": [
    "#### We want to test \n",
    " $ H_0 : \\lambda = 50$ vs $ H_1 : \\lambda = 55 $"
   ]
  },
  {
   "cell_type": "markdown",
   "id": "69c93563",
   "metadata": {},
   "source": [
    "###### * Likelihood Ratio Test:"
   ]
  },
  {
   "cell_type": "markdown",
   "id": "8eed7bf2",
   "metadata": {},
   "source": [
    "The first parametric test we suggest is the likelihood ratio test.\n",
    "\n",
    "With some algebra we get that the maximum likelihood estimator is\n",
    "\n",
    "$ \\lambda_1= \\hat{\\lambda_{mle}} =\\bar{x} $ \n",
    "\n",
    "And so our statistic will be\n",
    "\n",
    "$S(X)=2 *[ (\\sum_{i=1}^{n} x_i) * \\log{(\\lambda_1 / \\lambda_0)} - n*\\lambda_1 + n*\\lambda_0] $\n",
    "\n",
    "Note that $dim(\\theta)=1$ and $dim(\\theta_{0})=0$ so we will \n",
    "approximate the p_value using the $\\chi^{2}_{1}$ distribution."
   ]
  },
  {
   "cell_type": "markdown",
   "id": "c4160a86",
   "metadata": {},
   "source": [
    "The likelihood_ratio_test function:\n",
    "h_0 takes in the lambda parameter under h_0, in our case it will be 50. \n",
    "B will be the times we run this simulation.\n",
    "confidence_level is the confidence level we want for the test\n",
    "size is the sample size we want to generate every run of the simulation.\n",
    "\n",
    "\n",
    "What this function does is take in all of these parameters and runs B times:\n",
    "every time it will simulate 50 poisson(55) values and calculate the current mle and the current sum of x's.\n",
    "it will then calculate our statistic S(X) for the current sample and save it.\n",
    "then we will use the chi squared distribution with 1 degree of freedom to get an approximate p value.\n",
    "the function the returns the number of good p values divided by the number of simulations B.\n",
    "Important: The \"Good p values\" are the p values which are less than or equal to our significance level alpha. In other words, the function returns the simulated confidence level."
   ]
  },
  {
   "cell_type": "code",
   "execution_count": 50,
   "id": "468cf231",
   "metadata": {},
   "outputs": [
    {
     "data": {
      "text/plain": [
       "0.996"
      ]
     },
     "execution_count": 50,
     "metadata": {},
     "output_type": "execute_result"
    }
   ],
   "source": [
    "np.random.seed(2070)\n",
    "def likelihood_ratio_test(h_0,B,confidence_level,size):\n",
    "    alpha=1-confidence_level\n",
    "    test_statistics=[]\n",
    "    p_values=[]\n",
    "    good_p_values =0\n",
    "    for t in range(B):\n",
    "        current_data = np.random.poisson(lam=55, size=size)\n",
    "        current_mle = np.mean(current_data)\n",
    "        current_sum = np.sum(current_data)\n",
    "        current_test_statistic = 2 * ( current_sum * np.log(current_mle/h_0) - size*current_mle + size*h_0)\n",
    "        test_statistics.append(current_test_statistic)\n",
    "        current_p_value = chi2.sf(current_test_statistic, df=1)\n",
    "        p_values.append(current_p_value)\n",
    "        if current_p_value <= alpha:\n",
    "            good_p_values+=1\n",
    "    return good_p_values/B\n",
    "\n",
    "likelihood_ratio_test(h_0=50,B=1000,confidence_level=0.95,size=50)"
   ]
  },
  {
   "cell_type": "markdown",
   "id": "e01d3ae4",
   "metadata": {},
   "source": [
    "so our simulated confidence level is pretty close to our original input 95%. it makes sense because of computational round-ups etc.\n"
   ]
  },
  {
   "cell_type": "markdown",
   "id": "f52f12af",
   "metadata": {},
   "source": [
    "###### let's see how the simulated confidence changes as we get closer to the real lambda value of 55:\n",
    "\n"
   ]
  },
  {
   "cell_type": "code",
   "execution_count": 51,
   "id": "bdff6649",
   "metadata": {},
   "outputs": [
    {
     "data": {
      "image/png": "[encoded data removed]",
      "text/plain": [
       "<Figure size 432x288 with 1 Axes>"
      ]
     },
     "metadata": {
      "needs_background": "light"
     },
     "output_type": "display_data"
    }
   ],
   "source": [
    "simulated_conf_likelihood_ratio_test=[]\n",
    "lambdas_lrt = np.arange (start=50, stop=60, step=0.25)\n",
    "for j in range(len(lambdas_lrt)):\n",
    "    if lambdas_lrt[j]==55:\n",
    "        simulated_conf_likelihood_ratio_test.append(np.nan)\n",
    "    else:\n",
    "        simulated_conf_likelihood_ratio_test.append(likelihood_ratio_test(h_0=lambdas_lrt[j],B=1000,confidence_level=0.95,size=50))\n",
    "def quick_plot(Xs, Ys,x_text='',y_text=''):\n",
    "    plt.plot(Xs,Ys, color='blue')\n",
    "    title = 'Change in simulated confidence as lambdas under H_0 changes'\n",
    "    plt.title(title)\n",
    "    plt.xlabel(x_text)\n",
    "    plt.ylabel(y_text)\n",
    "    plt.show()\n",
    "    return None\n",
    "\n",
    "quick_plot(Xs=lambdas_lrt,Ys=simulated_conf_likelihood_ratio_test,x_text='Lambda under H_0',y_text='Simulated Confidence Level')    "
   ]
  },
  {
   "cell_type": "markdown",
   "id": "21b39f6a",
   "metadata": {},
   "source": [
    "Note how our simulated confidence decreases as the lambdas under H_0 gets closer to 55.\n",
    "In other words, we fail to reject the null,H_0, the more lambda under H_0 gets closer to the \"real value of lambda\" which is 55.\n",
    "Note that we did not test h_0=55 vs h_1=55 because it simply doesn't make sense. That's why there's a hole in the graph around that area.\n",
    "remember, a low simulated confidence level means that a lot of the pvalues at every iteration were bigger than alpha."
   ]
  },
  {
   "cell_type": "markdown",
   "id": "a5f22579",
   "metadata": {},
   "source": [
    "###### * Wald Test:"
   ]
  },
  {
   "cell_type": "markdown",
   "id": "d8374559",
   "metadata": {},
   "source": [
    "For the second test we will use the Wald test.\n",
    "We will have to reframe the original hypothesis test above into a wald-like hypothesis test.\n",
    "\n",
    "We suggest the following hypothesis test framework:\n",
    "\n",
    "\n",
    "$ \\delta :=$  the difference between the means of Adam's and Eve's data\n",
    "\n",
    "$ H_0 : \\delta = 0$ \n",
    "vs \n",
    "$ H_1 : \\delta \\neq  0$\n",
    "\n",
    "with a wald statistic of \n",
    "\n",
    "$ W = |\\dfrac{\\hat{\\delta} - 0}{\\hat{se}}| =|\\dfrac{{\\bar{X} } - \\bar{Y}}{\\sqrt{Var[Adam]/n + Var[Eve]/n}}| $\n",
    "\n",
    "Just for the sake of completeness, \n",
    "let $\\bar{X}$ be Adam's sample mean\n",
    "and let $\\bar{Y}$ be Eve's sample mean.\n",
    "\n",
    "Where $Var[Adam]$ is the variance of Adam's sample and $Var[Eve]$ is the variance of eve's sample\n",
    "and n is the sample size, we assume they both have equal sample sizes of 50.\n",
    "And so we will approximate the p value using the standard normal distribution.\n",
    "\n",
    "\n",
    "failing to reject the null will mean that adam is cheating."
   ]
  },
  {
   "cell_type": "markdown",
   "id": "dd874cf9",
   "metadata": {},
   "source": [
    "The following function is very similar to the likelihood ratio test function aboove, the difference here is that we are calculating the wald test statistic instead of the LRT statistic and using the normal distribution to approximate the p value.\n",
    "Additionally, we are simulating Adam's and Eve's data every iteration B."
   ]
  },
  {
   "cell_type": "code",
   "execution_count": 52,
   "id": "93c544c2",
   "metadata": {},
   "outputs": [
    {
     "data": {
      "text/plain": [
       "0.95"
      ]
     },
     "execution_count": 52,
     "metadata": {},
     "output_type": "execute_result"
    }
   ],
   "source": [
    "np.random.seed(2070)\n",
    "def wald_test(Adam_lambda,Eve_lambda,B,confidence_level,size):\n",
    "    alpha = 1-confidence_level\n",
    "    test_statistics=[]\n",
    "    p_values=[]\n",
    "    critical_values=[]\n",
    "    good_p_values =0\n",
    "    for t in range(B):\n",
    "        A = np.random.poisson(lam=Adam_lambda, size=size)\n",
    "        A_mean = np.mean(A)\n",
    "        A_var = np.var(A) /size\n",
    "        E = np.random.poisson(lam=Eve_lambda,size=size)\n",
    "        E_mean = np.mean(E)\n",
    "        E_var = np.var(E) / size\n",
    "        numerator = A_mean - E_mean\n",
    "        denominator = np.sqrt(A_var+E_var)\n",
    "        wald_statistic = np.abs(numerator / denominator)\n",
    "        current_p_value = 2*norm.cdf(-wald_statistic) # normal approx.\n",
    "        test_statistics.append(wald_statistic)\n",
    "        p_values.append(current_p_value)\n",
    "        if current_p_value <= alpha:\n",
    "            good_p_values+=1\n",
    "    return good_p_values/B\n",
    "\n",
    "wald_test(Adam_lambda=55,Eve_lambda=50,B=100,confidence_level=0.95,size=50)"
   ]
  },
  {
   "cell_type": "markdown",
   "id": "b6ef1e0a",
   "metadata": {},
   "source": [
    "This time the simulated confidence is exactly the confidence level!!!!!!!!\n"
   ]
  },
  {
   "cell_type": "markdown",
   "id": "b7b0d9f4",
   "metadata": {},
   "source": [
    "#### d)"
   ]
  },
  {
   "cell_type": "markdown",
   "id": "37d20e1d",
   "metadata": {},
   "source": [
    "We decided to perform the calculation analytically, specifically for the likelihood ratio test.\n",
    "We came to the conclusion that the minimal sample size is n=22.\n",
    "It is in the Pdf.\n",
    "We attached the pdf below, but it is also provided in the zip file.\n"
   ]
  },
  {
   "cell_type": "markdown",
   "id": "c9d19b77",
   "metadata": {},
   "source": [
    "Note: we use the normal approximation to find n."
   ]
  },
  {
   "cell_type": "code",
   "execution_count": 53,
   "id": "84365ba1",
   "metadata": {},
   "outputs": [
    {
     "data": {
      "text/html": [
       "\n",
       "        <iframe\n",
       "            width=\"900\"\n",
       "            height=\"1000\"\n",
       "            src=\"question2d.pdf\"\n",
       "            frameborder=\"0\"\n",
       "            allowfullscreen\n",
       "            \n",
       "        ></iframe>\n",
       "        "
      ],
      "text/plain": [
       "<IPython.lib.display.IFrame at 0x1d7f6e2d310>"
      ]
     },
     "execution_count": 53,
     "metadata": {},
     "output_type": "execute_result"
    }
   ],
   "source": [
    "IFrame(\"question2d.pdf\", width=900, height=1000)"
   ]
  },
  {
   "cell_type": "markdown",
   "id": "a3edf1e1",
   "metadata": {},
   "source": [
    "$\\blacksquare$"
   ]
  },
  {
   "cell_type": "markdown",
   "id": "8c884723",
   "metadata": {},
   "source": [
    "##  Question 3 Statistical Models"
   ]
  },
  {
   "cell_type": "code",
   "execution_count": 54,
   "id": "9f8fc258",
   "metadata": {
    "scrolled": true
   },
   "outputs": [
    {
     "data": {
      "text/html": [
       "<div>\n",
       "<style scoped>\n",
       "    .dataframe tbody tr th:only-of-type {\n",
       "        vertical-align: middle;\n",
       "    }\n",
       "\n",
       "    .dataframe tbody tr th {\n",
       "        vertical-align: top;\n",
       "    }\n",
       "\n",
       "    .dataframe thead th {\n",
       "        text-align: right;\n",
       "    }\n",
       "</style>\n",
       "<table border=\"1\" class=\"dataframe\">\n",
       "  <thead>\n",
       "    <tr style=\"text-align: right;\">\n",
       "      <th></th>\n",
       "      <th>y</th>\n",
       "      <th>x1</th>\n",
       "      <th>x2</th>\n",
       "      <th>x3</th>\n",
       "      <th>x4</th>\n",
       "      <th>x5</th>\n",
       "      <th>x6</th>\n",
       "      <th>x7</th>\n",
       "      <th>x8</th>\n",
       "      <th>x9</th>\n",
       "      <th>...</th>\n",
       "      <th>x15</th>\n",
       "      <th>x16</th>\n",
       "      <th>x17</th>\n",
       "      <th>x18</th>\n",
       "      <th>x19</th>\n",
       "      <th>x20</th>\n",
       "      <th>x21</th>\n",
       "      <th>x22</th>\n",
       "      <th>x23</th>\n",
       "      <th>x24</th>\n",
       "    </tr>\n",
       "  </thead>\n",
       "  <tbody>\n",
       "    <tr>\n",
       "      <th>0</th>\n",
       "      <td>107</td>\n",
       "      <td>102.886643</td>\n",
       "      <td>196.943843</td>\n",
       "      <td>297.906121</td>\n",
       "      <td>52</td>\n",
       "      <td>22</td>\n",
       "      <td>32.859792</td>\n",
       "      <td>164</td>\n",
       "      <td>106</td>\n",
       "      <td>63.507651</td>\n",
       "      <td>...</td>\n",
       "      <td>125.475051</td>\n",
       "      <td>0</td>\n",
       "      <td>1</td>\n",
       "      <td>0</td>\n",
       "      <td>154.783184</td>\n",
       "      <td>147.622883</td>\n",
       "      <td>244.667677</td>\n",
       "      <td>0.369351</td>\n",
       "      <td>0.500646</td>\n",
       "      <td>1.475186</td>\n",
       "    </tr>\n",
       "    <tr>\n",
       "      <th>1</th>\n",
       "      <td>90</td>\n",
       "      <td>100.815798</td>\n",
       "      <td>194.741136</td>\n",
       "      <td>300.260251</td>\n",
       "      <td>49</td>\n",
       "      <td>19</td>\n",
       "      <td>17.459270</td>\n",
       "      <td>161</td>\n",
       "      <td>96</td>\n",
       "      <td>70.442053</td>\n",
       "      <td>...</td>\n",
       "      <td>88.476607</td>\n",
       "      <td>0</td>\n",
       "      <td>1</td>\n",
       "      <td>0</td>\n",
       "      <td>50.996887</td>\n",
       "      <td>84.631845</td>\n",
       "      <td>113.862044</td>\n",
       "      <td>0.637361</td>\n",
       "      <td>0.511120</td>\n",
       "      <td>0.640851</td>\n",
       "    </tr>\n",
       "    <tr>\n",
       "      <th>2</th>\n",
       "      <td>90</td>\n",
       "      <td>105.404634</td>\n",
       "      <td>199.422587</td>\n",
       "      <td>301.454232</td>\n",
       "      <td>46</td>\n",
       "      <td>13</td>\n",
       "      <td>26.533067</td>\n",
       "      <td>150</td>\n",
       "      <td>98</td>\n",
       "      <td>99.324123</td>\n",
       "      <td>...</td>\n",
       "      <td>113.794568</td>\n",
       "      <td>1</td>\n",
       "      <td>1</td>\n",
       "      <td>1</td>\n",
       "      <td>24.581021</td>\n",
       "      <td>43.355957</td>\n",
       "      <td>80.561859</td>\n",
       "      <td>0.557686</td>\n",
       "      <td>0.522909</td>\n",
       "      <td>-0.015851</td>\n",
       "    </tr>\n",
       "    <tr>\n",
       "      <th>3</th>\n",
       "      <td>92</td>\n",
       "      <td>109.501591</td>\n",
       "      <td>206.921739</td>\n",
       "      <td>317.415536</td>\n",
       "      <td>41</td>\n",
       "      <td>13</td>\n",
       "      <td>26.516413</td>\n",
       "      <td>152</td>\n",
       "      <td>109</td>\n",
       "      <td>96.347172</td>\n",
       "      <td>...</td>\n",
       "      <td>93.474055</td>\n",
       "      <td>1</td>\n",
       "      <td>1</td>\n",
       "      <td>1</td>\n",
       "      <td>54.475980</td>\n",
       "      <td>134.528252</td>\n",
       "      <td>212.358502</td>\n",
       "      <td>0.416433</td>\n",
       "      <td>0.510081</td>\n",
       "      <td>0.465479</td>\n",
       "    </tr>\n",
       "    <tr>\n",
       "      <th>4</th>\n",
       "      <td>99</td>\n",
       "      <td>93.237287</td>\n",
       "      <td>195.307733</td>\n",
       "      <td>286.121573</td>\n",
       "      <td>48</td>\n",
       "      <td>13</td>\n",
       "      <td>23.520136</td>\n",
       "      <td>136</td>\n",
       "      <td>93</td>\n",
       "      <td>61.732369</td>\n",
       "      <td>...</td>\n",
       "      <td>115.317433</td>\n",
       "      <td>1</td>\n",
       "      <td>1</td>\n",
       "      <td>0</td>\n",
       "      <td>34.491754</td>\n",
       "      <td>331.263536</td>\n",
       "      <td>87.449725</td>\n",
       "      <td>0.723308</td>\n",
       "      <td>0.514442</td>\n",
       "      <td>1.992274</td>\n",
       "    </tr>\n",
       "    <tr>\n",
       "      <th>...</th>\n",
       "      <td>...</td>\n",
       "      <td>...</td>\n",
       "      <td>...</td>\n",
       "      <td>...</td>\n",
       "      <td>...</td>\n",
       "      <td>...</td>\n",
       "      <td>...</td>\n",
       "      <td>...</td>\n",
       "      <td>...</td>\n",
       "      <td>...</td>\n",
       "      <td>...</td>\n",
       "      <td>...</td>\n",
       "      <td>...</td>\n",
       "      <td>...</td>\n",
       "      <td>...</td>\n",
       "      <td>...</td>\n",
       "      <td>...</td>\n",
       "      <td>...</td>\n",
       "      <td>...</td>\n",
       "      <td>...</td>\n",
       "      <td>...</td>\n",
       "    </tr>\n",
       "    <tr>\n",
       "      <th>495</th>\n",
       "      <td>87</td>\n",
       "      <td>115.244387</td>\n",
       "      <td>206.882533</td>\n",
       "      <td>317.737184</td>\n",
       "      <td>46</td>\n",
       "      <td>15</td>\n",
       "      <td>33.859331</td>\n",
       "      <td>135</td>\n",
       "      <td>92</td>\n",
       "      <td>60.165328</td>\n",
       "      <td>...</td>\n",
       "      <td>83.004716</td>\n",
       "      <td>1</td>\n",
       "      <td>1</td>\n",
       "      <td>0</td>\n",
       "      <td>66.720630</td>\n",
       "      <td>15.341354</td>\n",
       "      <td>36.034768</td>\n",
       "      <td>0.697481</td>\n",
       "      <td>0.464417</td>\n",
       "      <td>1.022261</td>\n",
       "    </tr>\n",
       "    <tr>\n",
       "      <th>496</th>\n",
       "      <td>94</td>\n",
       "      <td>109.368480</td>\n",
       "      <td>209.701398</td>\n",
       "      <td>312.298447</td>\n",
       "      <td>57</td>\n",
       "      <td>14</td>\n",
       "      <td>34.307389</td>\n",
       "      <td>162</td>\n",
       "      <td>107</td>\n",
       "      <td>42.863637</td>\n",
       "      <td>...</td>\n",
       "      <td>104.214001</td>\n",
       "      <td>1</td>\n",
       "      <td>1</td>\n",
       "      <td>1</td>\n",
       "      <td>3.282683</td>\n",
       "      <td>103.106200</td>\n",
       "      <td>185.642747</td>\n",
       "      <td>0.488762</td>\n",
       "      <td>0.452391</td>\n",
       "      <td>1.571689</td>\n",
       "    </tr>\n",
       "    <tr>\n",
       "      <th>497</th>\n",
       "      <td>87</td>\n",
       "      <td>101.890753</td>\n",
       "      <td>200.493877</td>\n",
       "      <td>314.773357</td>\n",
       "      <td>47</td>\n",
       "      <td>20</td>\n",
       "      <td>24.782499</td>\n",
       "      <td>143</td>\n",
       "      <td>92</td>\n",
       "      <td>84.975155</td>\n",
       "      <td>...</td>\n",
       "      <td>110.268455</td>\n",
       "      <td>0</td>\n",
       "      <td>0</td>\n",
       "      <td>0</td>\n",
       "      <td>41.305439</td>\n",
       "      <td>5.958082</td>\n",
       "      <td>16.891214</td>\n",
       "      <td>0.401594</td>\n",
       "      <td>0.521874</td>\n",
       "      <td>-0.226588</td>\n",
       "    </tr>\n",
       "    <tr>\n",
       "      <th>498</th>\n",
       "      <td>92</td>\n",
       "      <td>104.241466</td>\n",
       "      <td>208.121770</td>\n",
       "      <td>320.094890</td>\n",
       "      <td>48</td>\n",
       "      <td>18</td>\n",
       "      <td>27.573344</td>\n",
       "      <td>148</td>\n",
       "      <td>99</td>\n",
       "      <td>72.869405</td>\n",
       "      <td>...</td>\n",
       "      <td>82.487577</td>\n",
       "      <td>0</td>\n",
       "      <td>0</td>\n",
       "      <td>0</td>\n",
       "      <td>38.607683</td>\n",
       "      <td>113.665653</td>\n",
       "      <td>21.334809</td>\n",
       "      <td>0.486954</td>\n",
       "      <td>0.516862</td>\n",
       "      <td>0.578888</td>\n",
       "    </tr>\n",
       "    <tr>\n",
       "      <th>499</th>\n",
       "      <td>81</td>\n",
       "      <td>84.621821</td>\n",
       "      <td>169.809962</td>\n",
       "      <td>271.826497</td>\n",
       "      <td>54</td>\n",
       "      <td>22</td>\n",
       "      <td>17.737649</td>\n",
       "      <td>152</td>\n",
       "      <td>106</td>\n",
       "      <td>43.272903</td>\n",
       "      <td>...</td>\n",
       "      <td>90.392685</td>\n",
       "      <td>1</td>\n",
       "      <td>1</td>\n",
       "      <td>1</td>\n",
       "      <td>92.603911</td>\n",
       "      <td>16.739444</td>\n",
       "      <td>212.967737</td>\n",
       "      <td>0.550232</td>\n",
       "      <td>0.473548</td>\n",
       "      <td>0.880054</td>\n",
       "    </tr>\n",
       "  </tbody>\n",
       "</table>\n",
       "<p>500 rows × 25 columns</p>\n",
       "</div>"
      ],
      "text/plain": [
       "       y          x1          x2          x3  x4  x5         x6   x7   x8  \\\n",
       "0    107  102.886643  196.943843  297.906121  52  22  32.859792  164  106   \n",
       "1     90  100.815798  194.741136  300.260251  49  19  17.459270  161   96   \n",
       "2     90  105.404634  199.422587  301.454232  46  13  26.533067  150   98   \n",
       "3     92  109.501591  206.921739  317.415536  41  13  26.516413  152  109   \n",
       "4     99   93.237287  195.307733  286.121573  48  13  23.520136  136   93   \n",
       "..   ...         ...         ...         ...  ..  ..        ...  ...  ...   \n",
       "495   87  115.244387  206.882533  317.737184  46  15  33.859331  135   92   \n",
       "496   94  109.368480  209.701398  312.298447  57  14  34.307389  162  107   \n",
       "497   87  101.890753  200.493877  314.773357  47  20  24.782499  143   92   \n",
       "498   92  104.241466  208.121770  320.094890  48  18  27.573344  148   99   \n",
       "499   81   84.621821  169.809962  271.826497  54  22  17.737649  152  106   \n",
       "\n",
       "            x9  ...         x15  x16  x17  x18         x19         x20  \\\n",
       "0    63.507651  ...  125.475051    0    1    0  154.783184  147.622883   \n",
       "1    70.442053  ...   88.476607    0    1    0   50.996887   84.631845   \n",
       "2    99.324123  ...  113.794568    1    1    1   24.581021   43.355957   \n",
       "3    96.347172  ...   93.474055    1    1    1   54.475980  134.528252   \n",
       "4    61.732369  ...  115.317433    1    1    0   34.491754  331.263536   \n",
       "..         ...  ...         ...  ...  ...  ...         ...         ...   \n",
       "495  60.165328  ...   83.004716    1    1    0   66.720630   15.341354   \n",
       "496  42.863637  ...  104.214001    1    1    1    3.282683  103.106200   \n",
       "497  84.975155  ...  110.268455    0    0    0   41.305439    5.958082   \n",
       "498  72.869405  ...   82.487577    0    0    0   38.607683  113.665653   \n",
       "499  43.272903  ...   90.392685    1    1    1   92.603911   16.739444   \n",
       "\n",
       "            x21       x22       x23       x24  \n",
       "0    244.667677  0.369351  0.500646  1.475186  \n",
       "1    113.862044  0.637361  0.511120  0.640851  \n",
       "2     80.561859  0.557686  0.522909 -0.015851  \n",
       "3    212.358502  0.416433  0.510081  0.465479  \n",
       "4     87.449725  0.723308  0.514442  1.992274  \n",
       "..          ...       ...       ...       ...  \n",
       "495   36.034768  0.697481  0.464417  1.022261  \n",
       "496  185.642747  0.488762  0.452391  1.571689  \n",
       "497   16.891214  0.401594  0.521874 -0.226588  \n",
       "498   21.334809  0.486954  0.516862  0.578888  \n",
       "499  212.967737  0.550232  0.473548  0.880054  \n",
       "\n",
       "[500 rows x 25 columns]"
      ]
     },
     "execution_count": 54,
     "metadata": {},
     "output_type": "execute_result"
    }
   ],
   "source": [
    "df = pd.read_csv(r\"Y:\\Downloads\\AppleTrees.csv\")\n",
    "df"
   ]
  },
  {
   "cell_type": "code",
   "execution_count": 55,
   "id": "a81931f4",
   "metadata": {
    "scrolled": true
   },
   "outputs": [
    {
     "name": "stdout",
     "output_type": "stream",
     "text": [
      "<class 'pandas.core.frame.DataFrame'>\n",
      "RangeIndex: 500 entries, 0 to 499\n",
      "Data columns (total 25 columns):\n",
      " #   Column  Non-Null Count  Dtype  \n",
      "---  ------  --------------  -----  \n",
      " 0   y       500 non-null    int64  \n",
      " 1   x1      500 non-null    float64\n",
      " 2   x2      500 non-null    float64\n",
      " 3   x3      500 non-null    float64\n",
      " 4   x4      500 non-null    int64  \n",
      " 5   x5      500 non-null    int64  \n",
      " 6   x6      500 non-null    float64\n",
      " 7   x7      500 non-null    int64  \n",
      " 8   x8      500 non-null    int64  \n",
      " 9   x9      500 non-null    float64\n",
      " 10  x10     500 non-null    float64\n",
      " 11  x11     500 non-null    float64\n",
      " 12  x12     500 non-null    float64\n",
      " 13  x13     500 non-null    float64\n",
      " 14  x14     500 non-null    float64\n",
      " 15  x15     500 non-null    float64\n",
      " 16  x16     500 non-null    int64  \n",
      " 17  x17     500 non-null    int64  \n",
      " 18  x18     500 non-null    int64  \n",
      " 19  x19     500 non-null    float64\n",
      " 20  x20     500 non-null    float64\n",
      " 21  x21     500 non-null    float64\n",
      " 22  x22     500 non-null    float64\n",
      " 23  x23     500 non-null    float64\n",
      " 24  x24     500 non-null    float64\n",
      "dtypes: float64(17), int64(8)\n",
      "memory usage: 97.8 KB\n"
     ]
    }
   ],
   "source": [
    "df.info()"
   ]
  },
  {
   "cell_type": "markdown",
   "id": "97a4fa46",
   "metadata": {},
   "source": [
    "#### a)"
   ]
  },
  {
   "cell_type": "code",
   "execution_count": 56,
   "id": "9f0fc3d0",
   "metadata": {},
   "outputs": [],
   "source": [
    "# Split your data randomly to train (80%) and test (20%) sets\n",
    "y = df['y']\n",
    "X = df.iloc[:,1:]\n",
    "\n",
    "X_train, X_test, y_train, y_test = train_test_split(X, y, test_size=0.2, random_state=42)"
   ]
  },
  {
   "cell_type": "code",
   "execution_count": 57,
   "id": "f41c169a",
   "metadata": {},
   "outputs": [
    {
     "name": "stdout",
     "output_type": "stream",
     "text": [
      "                            OLS Regression Results                            \n",
      "==============================================================================\n",
      "Dep. Variable:                      y   R-squared:                       0.697\n",
      "Model:                            OLS   Adj. R-squared:                  0.678\n",
      "Method:                 Least Squares   F-statistic:                     35.98\n",
      "Date:                Fri, 10 Feb 2023   Prob (F-statistic):           3.60e-82\n",
      "Time:                        09:50:32   Log-Likelihood:                -1200.3\n",
      "No. Observations:                 400   AIC:                             2451.\n",
      "Df Residuals:                     375   BIC:                             2550.\n",
      "Df Model:                          24                                         \n",
      "Covariance Type:            nonrobust                                         \n",
      "==============================================================================\n",
      "                 coef    std err          t      P>|t|      [0.025      0.975]\n",
      "------------------------------------------------------------------------------\n",
      "const         -8.9885      9.877     -0.910      0.363     -28.411      10.434\n",
      "x1            -0.0576      0.040     -1.434      0.153      -0.136       0.021\n",
      "x2             0.0315      0.041      0.772      0.441      -0.049       0.112\n",
      "x3             0.1591      0.028      5.625      0.000       0.103       0.215\n",
      "x4             0.0737      0.039      1.913      0.057      -0.002       0.149\n",
      "x5            -0.0642      0.055     -1.168      0.243      -0.172       0.044\n",
      "x6             0.1694      0.026      6.586      0.000       0.119       0.220\n",
      "x7             0.0855      0.037      2.290      0.023       0.012       0.159\n",
      "x8             0.1014      0.038      2.700      0.007       0.028       0.175\n",
      "x9            -0.0057      0.017     -0.327      0.744      -0.040       0.029\n",
      "x10           -0.0278      0.020     -1.427      0.154      -0.066       0.011\n",
      "x11            0.1099      0.025      4.427      0.000       0.061       0.159\n",
      "x12            0.0370      0.027      1.351      0.177      -0.017       0.091\n",
      "x13            0.0025      0.026      0.094      0.925      -0.049       0.054\n",
      "x14            0.0336      0.025      1.321      0.187      -0.016       0.084\n",
      "x15           -0.0255      0.026     -0.999      0.319      -0.076       0.025\n",
      "x16            0.2218      0.585      0.379      0.705      -0.929       1.372\n",
      "x17            0.6780      0.591      1.146      0.252      -0.485       1.841\n",
      "x18           -1.4527      0.869     -1.671      0.096      -3.162       0.257\n",
      "x19            0.0487      0.005      9.946      0.000       0.039       0.058\n",
      "x20            0.0491      0.002     21.253      0.000       0.045       0.054\n",
      "x21           -0.0003      0.003     -0.123      0.902      -0.005       0.005\n",
      "x22            0.7533      2.495      0.302      0.763      -4.153       5.660\n",
      "x23            8.6862      7.561      1.149      0.251      -6.181      23.553\n",
      "x24            1.4220      0.272      5.222      0.000       0.887       1.957\n",
      "==============================================================================\n",
      "Omnibus:                        0.636   Durbin-Watson:                   1.807\n",
      "Prob(Omnibus):                  0.727   Jarque-Bera (JB):                0.740\n",
      "Skew:                           0.035   Prob(JB):                        0.691\n",
      "Kurtosis:                       2.801   Cond. No.                     2.17e+04\n",
      "==============================================================================\n",
      "\n",
      "Notes:\n",
      "[1] Standard Errors assume that the covariance matrix of the errors is correctly specified.\n",
      "[2] The condition number is large, 2.17e+04. This might indicate that there are\n",
      "strong multicollinearity or other numerical problems.\n"
     ]
    },
    {
     "name": "stderr",
     "output_type": "stream",
     "text": [
      "C:\\Users\\yoel1\\anaconda3\\lib\\site-packages\\statsmodels\\tsa\\tsatools.py:142: FutureWarning: In a future version of pandas all arguments of concat except for the argument 'objs' will be keyword-only\n",
      "  x = pd.concat(x[::order], 1)\n"
     ]
    }
   ],
   "source": [
    "#add constant variable(B0) variable to predictor variables\n",
    "X_train2 = sm.add_constant(X_train)\n",
    "\n",
    "#fit linear regression model\n",
    "model = sm.OLS(y_train,X_train2).fit()\n",
    "\n",
    "#view model summary\n",
    "print(model.summary())"
   ]
  },
  {
   "cell_type": "code",
   "execution_count": 58,
   "id": "b916d987",
   "metadata": {},
   "outputs": [
    {
     "name": "stderr",
     "output_type": "stream",
     "text": [
      "C:\\Users\\yoel1\\anaconda3\\lib\\site-packages\\statsmodels\\tsa\\tsatools.py:142: FutureWarning: In a future version of pandas all arguments of concat except for the argument 'objs' will be keyword-only\n",
      "  x = pd.concat(x[::order], 1)\n"
     ]
    }
   ],
   "source": [
    "#add constant variable(B0) variable to predictor variables\n",
    "X_test2 = sm.add_constant(X_test)\n",
    "y_predicted = model.predict(X_test2)"
   ]
  },
  {
   "cell_type": "code",
   "execution_count": 59,
   "id": "035c7b01",
   "metadata": {},
   "outputs": [
    {
     "data": {
      "text/plain": [
       "3005.586228431539"
      ]
     },
     "execution_count": 59,
     "metadata": {},
     "output_type": "execute_result"
    }
   ],
   "source": [
    "# SSE (sum of squared errors) of the test set\n",
    "sse_test=sum((y_predicted.values-y_test.values)**2)\n",
    "sse_test"
   ]
  },
  {
   "cell_type": "code",
   "execution_count": 60,
   "id": "5882bdf7",
   "metadata": {},
   "outputs": [
    {
     "data": {
      "text/plain": [
       "9461.587217569995"
      ]
     },
     "execution_count": 60,
     "metadata": {},
     "output_type": "execute_result"
    }
   ],
   "source": [
    "# SSE (sum of squared errors) of the training set\n",
    "y_predicted_Train = model.predict(X_train2)\n",
    "sse_train=sum((y_predicted_Train.values-y_train.values)**2)\n",
    "sse_train"
   ]
  },
  {
   "cell_type": "code",
   "execution_count": 61,
   "id": "e0e92ffa",
   "metadata": {},
   "outputs": [
    {
     "name": "stdout",
     "output_type": "stream",
     "text": [
      "The SSE of the trining data is: 9461.587217569995 and the SSE of the trining data is: 3005.586228431539\n"
     ]
    }
   ],
   "source": [
    "print(\"The SSE of the trining data is:\", sse_train,\"and\", \"the SSE of the trining data is:\",sse_test )"
   ]
  },
  {
   "cell_type": "markdown",
   "id": "3e310840",
   "metadata": {},
   "source": [
    "### extras (You don't have to check this, we just wanted to test some stuff)"
   ]
  },
  {
   "cell_type": "code",
   "execution_count": 62,
   "id": "2ddfe0d0",
   "metadata": {},
   "outputs": [
    {
     "name": "stdout",
     "output_type": "stream",
     "text": [
      "The MSE of the trining data is: 23.653968043925005 and the MSE of the trining data is: 30.05586228431538\n"
     ]
    }
   ],
   "source": [
    "from sklearn.metrics import mean_squared_error\n",
    "\n",
    "MSE_Train = mean_squared_error(y_train.values, y_predicted_Train.values)\n",
    "MSE_Test = mean_squared_error(y_test.values, y_predicted.values)\n",
    "print(\"The MSE of the trining data is:\", MSE_Train,\"and\", \"the MSE of the trining data is:\",MSE_Test )"
   ]
  },
  {
   "cell_type": "code",
   "execution_count": 63,
   "id": "220cde43",
   "metadata": {
    "scrolled": true
   },
   "outputs": [
    {
     "data": {
      "text/plain": [
       "0.9471313107310471"
      ]
     },
     "execution_count": 63,
     "metadata": {},
     "output_type": "execute_result"
    }
   ],
   "source": [
    "abs(np.sqrt(np.mean(np.square(((y_train.values - y_predicted_Train.values) / y_train.values)), axis=0))-1)"
   ]
  },
  {
   "cell_type": "code",
   "execution_count": 64,
   "id": "7bc56680",
   "metadata": {},
   "outputs": [
    {
     "data": {
      "text/plain": [
       "0.940259479616586"
      ]
     },
     "execution_count": 64,
     "metadata": {},
     "output_type": "execute_result"
    }
   ],
   "source": [
    "abs(np.sqrt(np.mean(np.square(((y_test.values - y_predicted.values) / y_test.values)), axis=0))-1)"
   ]
  },
  {
   "cell_type": "markdown",
   "id": "16692373",
   "metadata": {},
   "source": [
    "#### b)"
   ]
  },
  {
   "cell_type": "markdown",
   "id": "491aa9ae",
   "metadata": {},
   "source": [
    "The two different methods to find a subset of covariates that are the most important for the prediction task is AIC and BIC.\n",
    "\n",
    "If there are k covariates then there are 2^k possible models. We need to search through all these models,\n",
    "assign a score to each one, and choose the model with the best score. When k is large,this is infeasible.\n",
    "In that case we need to search over a subset of all the models.\n",
    "Two common methods are forward and backward stepwise regression, Both are greedy searches.\n",
    "In forward stepwise regression, we start with no covariates in the model. We then add the one variable that leads to the best score. We continue adding variables one at a time until the score does not improve. We chose the forward stepwise regression."
   ]
  },
  {
   "cell_type": "markdown",
   "id": "15346ea6",
   "metadata": {},
   "source": [
    "1) The formula for calculating AIC is:\n",
    "AIC = 2K – 2ln(L), Therefore, we will look for the model whose result minimizes the AIC the most."
   ]
  },
  {
   "cell_type": "code",
   "execution_count": 65,
   "id": "49ec3810",
   "metadata": {},
   "outputs": [],
   "source": [
    "def processSubset_AIC(X):\n",
    "    # Fit model on feature_set and calculate AIC\n",
    "    new_X_train = X_train2[X_train2.columns[X_train2.columns.isin(X)]]\n",
    "    model_AIC = sm.OLS(y_train,new_X_train).fit()\n",
    "    AIC = model_AIC.aic\n",
    "    return {\"explanatory_variables\":new_X_train.columns, \"AIC\":AIC}"
   ]
  },
  {
   "cell_type": "code",
   "execution_count": 66,
   "id": "d50e1a21",
   "metadata": {},
   "outputs": [
    {
     "name": "stdout",
     "output_type": "stream",
     "text": [
      "time in seconds 0.3824343681335449\n"
     ]
    }
   ],
   "source": [
    "start = time.time()\n",
    "\n",
    "X_Train_Final= [\"const\"]\n",
    "X_train_Helper = X_train.copy()\n",
    "results = []\n",
    "# The forward stepwise regression algorithm (greedy search algorithm) with AIC method\n",
    "while len(X_train_Helper.columns)>0:\n",
    "    for i in X_train_Helper.columns:\n",
    "        results.append(processSubset_AIC(X_Train_Final+[i]))\n",
    "    # Wrap everything up in a nice dataframe\n",
    "    models = pd.DataFrame(results)\n",
    "    best_model = models.loc[models['AIC'].argmin()]\n",
    "    X_Train_Final = best_model.explanatory_variables.tolist()\n",
    "    X_train_Helper = X_train_Helper[X_train_Helper.columns[~X_train_Helper.columns.isin(X_Train_Final)]]\n",
    "    if min(models[\"AIC\"])==models[\"AIC\"][0]:\n",
    "        AIC_best_model=best_model\n",
    "        break\n",
    "    results = [results[models.index[models.AIC==best_model.AIC].tolist()[0]]].copy()\n",
    "\n",
    "    \n",
    "end = time.time()\n",
    "print(\"time in seconds\", (end-start))"
   ]
  },
  {
   "cell_type": "code",
   "execution_count": 67,
   "id": "4f49f8e7",
   "metadata": {},
   "outputs": [
    {
     "data": {
      "text/plain": [
       "Index(['const', 'x3', 'x4', 'x6', 'x7', 'x8', 'x11', 'x18', 'x19', 'x20',\n",
       "       'x24'],\n",
       "      dtype='object')"
      ]
     },
     "execution_count": 67,
     "metadata": {},
     "output_type": "execute_result"
    }
   ],
   "source": [
    "AIC_best_model.explanatory_variables"
   ]
  },
  {
   "cell_type": "code",
   "execution_count": 68,
   "id": "cc537ee2",
   "metadata": {},
   "outputs": [
    {
     "data": {
      "text/plain": [
       "2434.4596285649895"
      ]
     },
     "execution_count": 68,
     "metadata": {},
     "output_type": "execute_result"
    }
   ],
   "source": [
    "AIC_best_model.AIC"
   ]
  },
  {
   "cell_type": "code",
   "execution_count": 69,
   "id": "27ed2bd2",
   "metadata": {},
   "outputs": [],
   "source": [
    "X_train2_AIC = X_train2[X_train2.columns[X_train2.columns.isin(AIC_best_model.explanatory_variables)]]\n",
    "X_test2_AIC = X_test2[X_test2.columns[X_test2.columns.isin(AIC_best_model.explanatory_variables)]]\n",
    "# fit linear regression model with a subset of covariates that are the most important for the prediction task,\n",
    "# which were selected according to the AIC method\n",
    "model_AIC = sm.OLS(y_train,X_train2_AIC).fit()\n",
    "\n",
    "y_predicted_AIC = model_AIC.predict(X_test2_AIC)\n",
    "\n",
    "# SSE (sum of squared errors) of the test set\n",
    "sse_test_AIC=sum((y_predicted_AIC.values-y_test.values)**2)\n",
    "\n",
    "# SSE (sum of squared errors) of the training set\n",
    "y_predicted_Train_AIC = model_AIC.predict(X_train2_AIC)\n",
    "sse_train_AIC=sum((y_predicted_Train_AIC.values-y_train.values)**2)\n"
   ]
  },
  {
   "cell_type": "markdown",
   "id": "d178440e",
   "metadata": {},
   "source": [
    "2) The formula for calculating BIC is:\n",
    "\n",
    "BIC=(RSS+log(n)dσ̂2) / n\n",
    "where:\n",
    "\n",
    "d: The number of predictors\n",
    "n: Total observations\n",
    "σ̂: Estimate of the variance of the error associate with each response measurement in a regression model\n",
    "RSS: Residual sum of squares of the regression model (RSS=SSE)\n",
    "Therefore, we will look for the model whose result minimizes the BIC the most "
   ]
  },
  {
   "cell_type": "code",
   "execution_count": 70,
   "id": "bfdb5b29",
   "metadata": {},
   "outputs": [],
   "source": [
    "def processSubset_BIC(X):\n",
    "    # Fit model on feature_set and calculate BIC\n",
    "    new_X_train = X_train2[X_train2.columns[X_train2.columns.isin(X)]]\n",
    "    model_BIC = sm.OLS(y_train,new_X_train).fit()\n",
    "    BIC = model_BIC.bic\n",
    "    return {\"explanatory_variables\":new_X_train.columns, \"BIC\":BIC}"
   ]
  },
  {
   "cell_type": "code",
   "execution_count": 71,
   "id": "affe796a",
   "metadata": {},
   "outputs": [
    {
     "name": "stdout",
     "output_type": "stream",
     "text": [
      "time in seconds 0.21510839462280273\n"
     ]
    }
   ],
   "source": [
    "start = time.time()\n",
    "\n",
    "X_Train_Final= [\"const\"]\n",
    "X_train_Helper = X_train.copy()\n",
    "results = []\n",
    "\n",
    "# The forward stepwise regression algorithm (greedy search algorithm) with BIC method\n",
    "while len(X_train_Helper.columns)>0:\n",
    "    for i in X_train_Helper.columns:\n",
    "        results.append(processSubset_BIC(X_Train_Final+[i]))\n",
    "    # Wrap everything up in a nice dataframe\n",
    "    models = pd.DataFrame(results)\n",
    "    best_model = models.loc[models['BIC'].argmin()]\n",
    "    X_Train_Final = best_model.explanatory_variables.tolist()\n",
    "    X_train_Helper = X_train_Helper[X_train_Helper.columns[~X_train_Helper.columns.isin(X_Train_Final)]]\n",
    "    if min(models[\"BIC\"])==models[\"BIC\"][0]:\n",
    "        BIC_best_model=best_model\n",
    "        break\n",
    "    results = [results[models.index[models.BIC==best_model.BIC].tolist()[0]]].copy()\n",
    "    \n",
    "end = time.time()\n",
    "print(\"time in seconds\", (end-start))"
   ]
  },
  {
   "cell_type": "code",
   "execution_count": 72,
   "id": "44a2b5a1",
   "metadata": {
    "scrolled": true
   },
   "outputs": [
    {
     "data": {
      "text/plain": [
       "Index(['const', 'x3', 'x6', 'x7', 'x11', 'x19', 'x20', 'x24'], dtype='object')"
      ]
     },
     "execution_count": 72,
     "metadata": {},
     "output_type": "execute_result"
    }
   ],
   "source": [
    "BIC_best_model.explanatory_variables"
   ]
  },
  {
   "cell_type": "code",
   "execution_count": 73,
   "id": "af04b4f8",
   "metadata": {},
   "outputs": [
    {
     "data": {
      "text/plain": [
       "2471.0900418190495"
      ]
     },
     "execution_count": 73,
     "metadata": {},
     "output_type": "execute_result"
    }
   ],
   "source": [
    "BIC_best_model.BIC"
   ]
  },
  {
   "cell_type": "code",
   "execution_count": 74,
   "id": "c190ae12",
   "metadata": {},
   "outputs": [],
   "source": [
    "X_train2_BIC = X_train2[X_train2.columns[X_train2.columns.isin(BIC_best_model.explanatory_variables)]]\n",
    "X_test2_BIC = X_test2[X_test2.columns[X_test2.columns.isin(BIC_best_model.explanatory_variables)]]\n",
    "# fit linear regression model with a subset of covariates that are the most important for the prediction task,\n",
    "# which were selected according to the BIC method\n",
    "model_BIC = sm.OLS(y_train,X_train2_BIC).fit()\n",
    "\n",
    "y_predicted_BIC = model_BIC.predict(X_test2_BIC)\n",
    "\n",
    "# SSE (sum of squared errors) of the test set\n",
    "sse_test_BIC=sum((y_predicted_BIC.values-y_test.values)**2)\n",
    "\n",
    "# SSE (sum of squared errors) of the training set\n",
    "y_predicted_Train_BIC = model_BIC.predict(X_train2_BIC)\n",
    "sse_train_BIC=sum((y_predicted_Train_BIC.values-y_train.values)**2)"
   ]
  },
  {
   "cell_type": "code",
   "execution_count": 75,
   "id": "666bb324",
   "metadata": {},
   "outputs": [
    {
     "name": "stdout",
     "output_type": "stream",
     "text": [
      "sse_train: 9461.587217569995 sse_train_AIC: 9747.211782912975 sse_train_BIC: 10011.435757125415\n",
      "sse_test: 3005.586228431539 sse_test_AIC: 2939.197432663357 sse_test_BIC: 2859.066328217759\n"
     ]
    }
   ],
   "source": [
    "print(\"sse_train:\",sse_train,\"sse_train_AIC:\",sse_train_AIC,\"sse_train_BIC:\",sse_train_BIC)\n",
    "print(\"sse_test:\",sse_test,\"sse_test_AIC:\",sse_test_AIC,\"sse_test_BIC:\",sse_test_BIC)"
   ]
  },
  {
   "cell_type": "markdown",
   "id": "edbbad19",
   "metadata": {},
   "source": [
    "the SSE scores increased for the training data with a subset of variables selected by the two methods, but decreased for the test data. Because they studied the training data rather than imitated it.\n",
    "the full model with all the variables did not learn the pattern, but rather memorized the training data(overfitting). Therefore, the full model has the highest SSE score for test data and the lowest SSE score for training data."
   ]
  },
  {
   "cell_type": "markdown",
   "id": "7c035cb9",
   "metadata": {},
   "source": [
    "#### c)"
   ]
  },
  {
   "cell_type": "markdown",
   "id": "1b4baee2",
   "metadata": {},
   "source": [
    "Eve argued that the most important (for the prediction) covariates are also the most significant ones (i.e., with the smallest P.value).\n",
    "We disagree with Eve and we use the data to support our claim:"
   ]
  },
  {
   "cell_type": "code",
   "execution_count": 76,
   "id": "30e0f9f3",
   "metadata": {},
   "outputs": [
    {
     "name": "stdout",
     "output_type": "stream",
     "text": [
      "                            OLS Regression Results                            \n",
      "==============================================================================\n",
      "Dep. Variable:                      y   R-squared:                       0.697\n",
      "Model:                            OLS   Adj. R-squared:                  0.678\n",
      "Method:                 Least Squares   F-statistic:                     35.98\n",
      "Date:                Fri, 10 Feb 2023   Prob (F-statistic):           3.60e-82\n",
      "Time:                        09:50:33   Log-Likelihood:                -1200.3\n",
      "No. Observations:                 400   AIC:                             2451.\n",
      "Df Residuals:                     375   BIC:                             2550.\n",
      "Df Model:                          24                                         \n",
      "Covariance Type:            nonrobust                                         \n",
      "==============================================================================\n",
      "                 coef    std err          t      P>|t|      [0.025      0.975]\n",
      "------------------------------------------------------------------------------\n",
      "const         -8.9885      9.877     -0.910      0.363     -28.411      10.434\n",
      "x1            -0.0576      0.040     -1.434      0.153      -0.136       0.021\n",
      "x2             0.0315      0.041      0.772      0.441      -0.049       0.112\n",
      "x3             0.1591      0.028      5.625      0.000       0.103       0.215\n",
      "x4             0.0737      0.039      1.913      0.057      -0.002       0.149\n",
      "x5            -0.0642      0.055     -1.168      0.243      -0.172       0.044\n",
      "x6             0.1694      0.026      6.586      0.000       0.119       0.220\n",
      "x7             0.0855      0.037      2.290      0.023       0.012       0.159\n",
      "x8             0.1014      0.038      2.700      0.007       0.028       0.175\n",
      "x9            -0.0057      0.017     -0.327      0.744      -0.040       0.029\n",
      "x10           -0.0278      0.020     -1.427      0.154      -0.066       0.011\n",
      "x11            0.1099      0.025      4.427      0.000       0.061       0.159\n",
      "x12            0.0370      0.027      1.351      0.177      -0.017       0.091\n",
      "x13            0.0025      0.026      0.094      0.925      -0.049       0.054\n",
      "x14            0.0336      0.025      1.321      0.187      -0.016       0.084\n",
      "x15           -0.0255      0.026     -0.999      0.319      -0.076       0.025\n",
      "x16            0.2218      0.585      0.379      0.705      -0.929       1.372\n",
      "x17            0.6780      0.591      1.146      0.252      -0.485       1.841\n",
      "x18           -1.4527      0.869     -1.671      0.096      -3.162       0.257\n",
      "x19            0.0487      0.005      9.946      0.000       0.039       0.058\n",
      "x20            0.0491      0.002     21.253      0.000       0.045       0.054\n",
      "x21           -0.0003      0.003     -0.123      0.902      -0.005       0.005\n",
      "x22            0.7533      2.495      0.302      0.763      -4.153       5.660\n",
      "x23            8.6862      7.561      1.149      0.251      -6.181      23.553\n",
      "x24            1.4220      0.272      5.222      0.000       0.887       1.957\n",
      "==============================================================================\n",
      "Omnibus:                        0.636   Durbin-Watson:                   1.807\n",
      "Prob(Omnibus):                  0.727   Jarque-Bera (JB):                0.740\n",
      "Skew:                           0.035   Prob(JB):                        0.691\n",
      "Kurtosis:                       2.801   Cond. No.                     2.17e+04\n",
      "==============================================================================\n",
      "\n",
      "Notes:\n",
      "[1] Standard Errors assume that the covariance matrix of the errors is correctly specified.\n",
      "[2] The condition number is large, 2.17e+04. This might indicate that there are\n",
      "strong multicollinearity or other numerical problems.\n"
     ]
    }
   ],
   "source": [
    "#view the summary of the full model with all the variables\n",
    "print(model.summary())"
   ]
  },
  {
   "cell_type": "markdown",
   "id": "f9a482dd",
   "metadata": {},
   "source": [
    "The “t” is the Wald test statistic for testing H0 : βj = 0 versus H1 : βj != 0\n",
    "and the \"P>|t|\" gives the p-value: the probability of the estimated β coefficient\n",
    "being as large as it is if there was no real relationship between consumption and the corresponding predictor."
   ]
  },
  {
   "cell_type": "markdown",
   "id": "9c86920b",
   "metadata": {},
   "source": [
    "#### We will fit a linear model where the variables are the significant (p-value<0.05) variables from the model with all the variables."
   ]
  },
  {
   "cell_type": "code",
   "execution_count": 77,
   "id": "53a4de64",
   "metadata": {},
   "outputs": [
    {
     "data": {
      "text/html": [
       "<div>\n",
       "<style scoped>\n",
       "    .dataframe tbody tr th:only-of-type {\n",
       "        vertical-align: middle;\n",
       "    }\n",
       "\n",
       "    .dataframe tbody tr th {\n",
       "        vertical-align: top;\n",
       "    }\n",
       "\n",
       "    .dataframe thead th {\n",
       "        text-align: right;\n",
       "    }\n",
       "</style>\n",
       "<table border=\"1\" class=\"dataframe\">\n",
       "  <thead>\n",
       "    <tr style=\"text-align: right;\">\n",
       "      <th></th>\n",
       "      <th>variables</th>\n",
       "      <th>p_value</th>\n",
       "    </tr>\n",
       "  </thead>\n",
       "  <tbody>\n",
       "    <tr>\n",
       "      <th>16</th>\n",
       "      <td>x7</td>\n",
       "      <td>2.255354e-02</td>\n",
       "    </tr>\n",
       "    <tr>\n",
       "      <th>17</th>\n",
       "      <td>x8</td>\n",
       "      <td>7.237644e-03</td>\n",
       "    </tr>\n",
       "    <tr>\n",
       "      <th>18</th>\n",
       "      <td>x11</td>\n",
       "      <td>1.252979e-05</td>\n",
       "    </tr>\n",
       "    <tr>\n",
       "      <th>19</th>\n",
       "      <td>x24</td>\n",
       "      <td>2.937274e-07</td>\n",
       "    </tr>\n",
       "    <tr>\n",
       "      <th>20</th>\n",
       "      <td>x3</td>\n",
       "      <td>3.625078e-08</td>\n",
       "    </tr>\n",
       "    <tr>\n",
       "      <th>21</th>\n",
       "      <td>x6</td>\n",
       "      <td>1.531731e-10</td>\n",
       "    </tr>\n",
       "    <tr>\n",
       "      <th>22</th>\n",
       "      <td>x19</td>\n",
       "      <td>7.680936e-21</td>\n",
       "    </tr>\n",
       "    <tr>\n",
       "      <th>23</th>\n",
       "      <td>x20</td>\n",
       "      <td>2.361086e-66</td>\n",
       "    </tr>\n",
       "  </tbody>\n",
       "</table>\n",
       "</div>"
      ],
      "text/plain": [
       "   variables       p_value\n",
       "16        x7  2.255354e-02\n",
       "17        x8  7.237644e-03\n",
       "18       x11  1.252979e-05\n",
       "19       x24  2.937274e-07\n",
       "20        x3  3.625078e-08\n",
       "21        x6  1.531731e-10\n",
       "22       x19  7.680936e-21\n",
       "23       x20  2.361086e-66"
      ]
     },
     "execution_count": 77,
     "metadata": {},
     "output_type": "execute_result"
    }
   ],
   "source": [
    "d = {}\n",
    "for i in X.columns.tolist():\n",
    "    d[f'{i}'] = model.pvalues[i]\n",
    "\n",
    "df_Pvalue= pd.DataFrame(d.items(), columns=['variables', 'p_value']).sort_values(by = 'p_value',ascending=False).reset_index(drop=True)\n",
    "Eve_variables=df_Pvalue[df_Pvalue.p_value<0.05].copy()\n",
    "Eve_variables"
   ]
  },
  {
   "cell_type": "code",
   "execution_count": 78,
   "id": "7289e8f7",
   "metadata": {},
   "outputs": [],
   "source": [
    "X_train2_Eve = X_train2[X_train2.columns[X_train2.columns.isin(Eve_variables.variables)]]\n",
    "X_test2_Eve = X_test2[X_test2.columns[X_test2.columns.isin(Eve_variables.variables)]]\n",
    "#fit linear regression model\n",
    "model_Eve = sm.OLS(y_train,X_train2_Eve).fit()\n",
    "\n",
    "y_predicted_Eve = model_Eve.predict(X_test2_Eve)\n",
    "\n",
    "# SSE (sum of squared errors) of the test set\n",
    "sse_test_Eve=sum((y_predicted_Eve.values-y_test.values)**2)\n",
    "\n",
    "# SSE (sum of squared errors) of the training set\n",
    "y_predicted_Train_Eve = model_Eve.predict(X_train2_Eve)\n",
    "sse_train_Eve=sum((y_predicted_Train_Eve.values-y_train.values)**2)"
   ]
  },
  {
   "cell_type": "code",
   "execution_count": 79,
   "id": "2cb78e45",
   "metadata": {},
   "outputs": [
    {
     "name": "stdout",
     "output_type": "stream",
     "text": [
      "sse_train_Eve: 9886.749605322675 sse_train_AIC: 9747.211782912975 sse_train_BIC: 10011.435757125415\n",
      "sse_test_Eve: 2889.4577000711392 sse_test_AIC: 2939.197432663357 sse_test_BIC: 2859.066328217759\n"
     ]
    }
   ],
   "source": [
    "print(\"sse_train_Eve:\",sse_train_Eve,\"sse_train_AIC:\",sse_train_AIC,\"sse_train_BIC:\",sse_train_BIC)\n",
    "print(\"sse_test_Eve:\",sse_test_Eve,\"sse_test_AIC:\",sse_test_AIC,\"sse_test_BIC:\",sse_test_BIC)"
   ]
  },
  {
   "cell_type": "code",
   "execution_count": 80,
   "id": "ee8cc4fc",
   "metadata": {},
   "outputs": [
    {
     "data": {
      "text/plain": [
       "['x7', 'x8', 'x11', 'x24', 'x3', 'x6', 'x19', 'x20']"
      ]
     },
     "execution_count": 80,
     "metadata": {},
     "output_type": "execute_result"
    }
   ],
   "source": [
    "Eve_variables.variables.tolist()"
   ]
  },
  {
   "cell_type": "code",
   "execution_count": 81,
   "id": "ad37aed6",
   "metadata": {
    "scrolled": true
   },
   "outputs": [
    {
     "data": {
      "text/plain": [
       "Index(['const', 'x3', 'x6', 'x7', 'x11', 'x19', 'x20', 'x24'], dtype='object')"
      ]
     },
     "execution_count": 81,
     "metadata": {},
     "output_type": "execute_result"
    }
   ],
   "source": [
    "BIC_best_model.explanatory_variables"
   ]
  },
  {
   "cell_type": "code",
   "execution_count": 82,
   "id": "e664abf5",
   "metadata": {
    "scrolled": true
   },
   "outputs": [
    {
     "data": {
      "text/plain": [
       "Index(['const', 'x3', 'x4', 'x6', 'x7', 'x8', 'x11', 'x18', 'x19', 'x20',\n",
       "       'x24'],\n",
       "      dtype='object')"
      ]
     },
     "execution_count": 82,
     "metadata": {},
     "output_type": "execute_result"
    }
   ],
   "source": [
    "AIC_best_model.explanatory_variables"
   ]
  },
  {
   "cell_type": "markdown",
   "id": "9832d6a2",
   "metadata": {},
   "source": [
    "Eve argued that the most important (for the prediction) covariates are also the most significant ones (i.e., with the smallest P.value).\n",
    "We disagree with Eve. If what Eve stated was true, we would expect the sse of her model to be lower (or equal to) than the sse of the AIC / BIC models. In our case, we can see that the BIC model has the lowest sse in the test data ( when compared to the other two) and it does not have the variable x8, which is in Eve's model because was found to be significant (in the full, naive model). In other words, Eve is not necesarrily right because the BIC model had better (lower) sse on the test data, despite not having all the significant variables(x8). "
   ]
  },
  {
   "cell_type": "markdown",
   "id": "eb7b5819",
   "metadata": {},
   "source": [
    "#### d)"
   ]
  },
  {
   "cell_type": "markdown",
   "id": "0b47099e",
   "metadata": {},
   "source": [
    "In the OLS Regression Results \"P>|t|\" gives the p-value: the probability of the estimated β coefficient\n",
    "being as large as it is if there was no real relationship between consumption and the corresponding predictor.\n",
    "and this is the Hypothesis we examined in this section."
   ]
  },
  {
   "cell_type": "code",
   "execution_count": 83,
   "id": "8fbf9d5a",
   "metadata": {},
   "outputs": [
    {
     "data": {
      "text/html": [
       "<div>\n",
       "<style scoped>\n",
       "    .dataframe tbody tr th:only-of-type {\n",
       "        vertical-align: middle;\n",
       "    }\n",
       "\n",
       "    .dataframe tbody tr th {\n",
       "        vertical-align: top;\n",
       "    }\n",
       "\n",
       "    .dataframe thead th {\n",
       "        text-align: right;\n",
       "    }\n",
       "</style>\n",
       "<table border=\"1\" class=\"dataframe\">\n",
       "  <thead>\n",
       "    <tr style=\"text-align: right;\">\n",
       "      <th></th>\n",
       "      <th>variables</th>\n",
       "      <th>p_value</th>\n",
       "    </tr>\n",
       "  </thead>\n",
       "  <tbody>\n",
       "    <tr>\n",
       "      <th>0</th>\n",
       "      <td>x13</td>\n",
       "      <td>9.250727e-01</td>\n",
       "    </tr>\n",
       "    <tr>\n",
       "      <th>1</th>\n",
       "      <td>x21</td>\n",
       "      <td>9.018349e-01</td>\n",
       "    </tr>\n",
       "    <tr>\n",
       "      <th>2</th>\n",
       "      <td>x22</td>\n",
       "      <td>7.629170e-01</td>\n",
       "    </tr>\n",
       "    <tr>\n",
       "      <th>3</th>\n",
       "      <td>x9</td>\n",
       "      <td>7.438709e-01</td>\n",
       "    </tr>\n",
       "    <tr>\n",
       "      <th>4</th>\n",
       "      <td>x16</td>\n",
       "      <td>7.049079e-01</td>\n",
       "    </tr>\n",
       "    <tr>\n",
       "      <th>5</th>\n",
       "      <td>x2</td>\n",
       "      <td>4.407691e-01</td>\n",
       "    </tr>\n",
       "    <tr>\n",
       "      <th>6</th>\n",
       "      <td>x15</td>\n",
       "      <td>3.185934e-01</td>\n",
       "    </tr>\n",
       "    <tr>\n",
       "      <th>7</th>\n",
       "      <td>x17</td>\n",
       "      <td>2.523230e-01</td>\n",
       "    </tr>\n",
       "    <tr>\n",
       "      <th>8</th>\n",
       "      <td>x23</td>\n",
       "      <td>2.513459e-01</td>\n",
       "    </tr>\n",
       "    <tr>\n",
       "      <th>9</th>\n",
       "      <td>x5</td>\n",
       "      <td>2.434780e-01</td>\n",
       "    </tr>\n",
       "    <tr>\n",
       "      <th>10</th>\n",
       "      <td>x14</td>\n",
       "      <td>1.874318e-01</td>\n",
       "    </tr>\n",
       "    <tr>\n",
       "      <th>11</th>\n",
       "      <td>x12</td>\n",
       "      <td>1.774153e-01</td>\n",
       "    </tr>\n",
       "    <tr>\n",
       "      <th>12</th>\n",
       "      <td>x10</td>\n",
       "      <td>1.543326e-01</td>\n",
       "    </tr>\n",
       "    <tr>\n",
       "      <th>13</th>\n",
       "      <td>x1</td>\n",
       "      <td>1.525334e-01</td>\n",
       "    </tr>\n",
       "    <tr>\n",
       "      <th>14</th>\n",
       "      <td>x18</td>\n",
       "      <td>9.555853e-02</td>\n",
       "    </tr>\n",
       "    <tr>\n",
       "      <th>15</th>\n",
       "      <td>x4</td>\n",
       "      <td>5.653069e-02</td>\n",
       "    </tr>\n",
       "    <tr>\n",
       "      <th>16</th>\n",
       "      <td>x7</td>\n",
       "      <td>2.255354e-02</td>\n",
       "    </tr>\n",
       "    <tr>\n",
       "      <th>17</th>\n",
       "      <td>x8</td>\n",
       "      <td>7.237644e-03</td>\n",
       "    </tr>\n",
       "    <tr>\n",
       "      <th>18</th>\n",
       "      <td>x11</td>\n",
       "      <td>1.252979e-05</td>\n",
       "    </tr>\n",
       "    <tr>\n",
       "      <th>19</th>\n",
       "      <td>x24</td>\n",
       "      <td>2.937274e-07</td>\n",
       "    </tr>\n",
       "    <tr>\n",
       "      <th>20</th>\n",
       "      <td>x3</td>\n",
       "      <td>3.625078e-08</td>\n",
       "    </tr>\n",
       "    <tr>\n",
       "      <th>21</th>\n",
       "      <td>x6</td>\n",
       "      <td>1.531731e-10</td>\n",
       "    </tr>\n",
       "    <tr>\n",
       "      <th>22</th>\n",
       "      <td>x19</td>\n",
       "      <td>7.680936e-21</td>\n",
       "    </tr>\n",
       "    <tr>\n",
       "      <th>23</th>\n",
       "      <td>x20</td>\n",
       "      <td>2.361086e-66</td>\n",
       "    </tr>\n",
       "  </tbody>\n",
       "</table>\n",
       "</div>"
      ],
      "text/plain": [
       "   variables       p_value\n",
       "0        x13  9.250727e-01\n",
       "1        x21  9.018349e-01\n",
       "2        x22  7.629170e-01\n",
       "3         x9  7.438709e-01\n",
       "4        x16  7.049079e-01\n",
       "5         x2  4.407691e-01\n",
       "6        x15  3.185934e-01\n",
       "7        x17  2.523230e-01\n",
       "8        x23  2.513459e-01\n",
       "9         x5  2.434780e-01\n",
       "10       x14  1.874318e-01\n",
       "11       x12  1.774153e-01\n",
       "12       x10  1.543326e-01\n",
       "13        x1  1.525334e-01\n",
       "14       x18  9.555853e-02\n",
       "15        x4  5.653069e-02\n",
       "16        x7  2.255354e-02\n",
       "17        x8  7.237644e-03\n",
       "18       x11  1.252979e-05\n",
       "19       x24  2.937274e-07\n",
       "20        x3  3.625078e-08\n",
       "21        x6  1.531731e-10\n",
       "22       x19  7.680936e-21\n",
       "23       x20  2.361086e-66"
      ]
     },
     "execution_count": 83,
     "metadata": {},
     "output_type": "execute_result"
    }
   ],
   "source": [
    "d = {}\n",
    "for i in X.columns.tolist():\n",
    "    d[f'{i}'] = model.pvalues[i]\n",
    "\n",
    "df_Pvalue= pd.DataFrame(d.items(), columns=['variables', 'p_value']).sort_values(by = 'p_value',ascending=False).reset_index(drop=True)\n",
    "df_Pvalue"
   ]
  },
  {
   "cell_type": "code",
   "execution_count": 84,
   "id": "1c099142",
   "metadata": {
    "scrolled": false
   },
   "outputs": [
    {
     "name": "stderr",
     "output_type": "stream",
     "text": [
      "C:\\Users\\yoel1\\AppData\\Local\\Temp/ipykernel_17996/2112667390.py:6: SettingWithCopyWarning: \n",
      "A value is trying to be set on a copy of a slice from a DataFrame\n",
      "\n",
      "See the caveats in the documentation: https://pandas.pydata.org/pandas-docs/stable/user_guide/indexing.html#returning-a-view-versus-a-copy\n",
      "  df_Pvalue.Bonferroni_Method[i] = \"reject null hypothesis\"\n"
     ]
    },
    {
     "data": {
      "text/html": [
       "<div>\n",
       "<style scoped>\n",
       "    .dataframe tbody tr th:only-of-type {\n",
       "        vertical-align: middle;\n",
       "    }\n",
       "\n",
       "    .dataframe tbody tr th {\n",
       "        vertical-align: top;\n",
       "    }\n",
       "\n",
       "    .dataframe thead th {\n",
       "        text-align: right;\n",
       "    }\n",
       "</style>\n",
       "<table border=\"1\" class=\"dataframe\">\n",
       "  <thead>\n",
       "    <tr style=\"text-align: right;\">\n",
       "      <th></th>\n",
       "      <th>variables</th>\n",
       "      <th>p_value</th>\n",
       "      <th>Bonferroni_Method</th>\n",
       "    </tr>\n",
       "  </thead>\n",
       "  <tbody>\n",
       "    <tr>\n",
       "      <th>0</th>\n",
       "      <td>x13</td>\n",
       "      <td>9.250727e-01</td>\n",
       "      <td></td>\n",
       "    </tr>\n",
       "    <tr>\n",
       "      <th>1</th>\n",
       "      <td>x21</td>\n",
       "      <td>9.018349e-01</td>\n",
       "      <td></td>\n",
       "    </tr>\n",
       "    <tr>\n",
       "      <th>2</th>\n",
       "      <td>x22</td>\n",
       "      <td>7.629170e-01</td>\n",
       "      <td></td>\n",
       "    </tr>\n",
       "    <tr>\n",
       "      <th>3</th>\n",
       "      <td>x9</td>\n",
       "      <td>7.438709e-01</td>\n",
       "      <td></td>\n",
       "    </tr>\n",
       "    <tr>\n",
       "      <th>4</th>\n",
       "      <td>x16</td>\n",
       "      <td>7.049079e-01</td>\n",
       "      <td></td>\n",
       "    </tr>\n",
       "    <tr>\n",
       "      <th>5</th>\n",
       "      <td>x2</td>\n",
       "      <td>4.407691e-01</td>\n",
       "      <td></td>\n",
       "    </tr>\n",
       "    <tr>\n",
       "      <th>6</th>\n",
       "      <td>x15</td>\n",
       "      <td>3.185934e-01</td>\n",
       "      <td></td>\n",
       "    </tr>\n",
       "    <tr>\n",
       "      <th>7</th>\n",
       "      <td>x17</td>\n",
       "      <td>2.523230e-01</td>\n",
       "      <td></td>\n",
       "    </tr>\n",
       "    <tr>\n",
       "      <th>8</th>\n",
       "      <td>x23</td>\n",
       "      <td>2.513459e-01</td>\n",
       "      <td></td>\n",
       "    </tr>\n",
       "    <tr>\n",
       "      <th>9</th>\n",
       "      <td>x5</td>\n",
       "      <td>2.434780e-01</td>\n",
       "      <td></td>\n",
       "    </tr>\n",
       "    <tr>\n",
       "      <th>10</th>\n",
       "      <td>x14</td>\n",
       "      <td>1.874318e-01</td>\n",
       "      <td></td>\n",
       "    </tr>\n",
       "    <tr>\n",
       "      <th>11</th>\n",
       "      <td>x12</td>\n",
       "      <td>1.774153e-01</td>\n",
       "      <td></td>\n",
       "    </tr>\n",
       "    <tr>\n",
       "      <th>12</th>\n",
       "      <td>x10</td>\n",
       "      <td>1.543326e-01</td>\n",
       "      <td></td>\n",
       "    </tr>\n",
       "    <tr>\n",
       "      <th>13</th>\n",
       "      <td>x1</td>\n",
       "      <td>1.525334e-01</td>\n",
       "      <td></td>\n",
       "    </tr>\n",
       "    <tr>\n",
       "      <th>14</th>\n",
       "      <td>x18</td>\n",
       "      <td>9.555853e-02</td>\n",
       "      <td></td>\n",
       "    </tr>\n",
       "    <tr>\n",
       "      <th>15</th>\n",
       "      <td>x4</td>\n",
       "      <td>5.653069e-02</td>\n",
       "      <td></td>\n",
       "    </tr>\n",
       "    <tr>\n",
       "      <th>16</th>\n",
       "      <td>x7</td>\n",
       "      <td>2.255354e-02</td>\n",
       "      <td></td>\n",
       "    </tr>\n",
       "    <tr>\n",
       "      <th>17</th>\n",
       "      <td>x8</td>\n",
       "      <td>7.237644e-03</td>\n",
       "      <td></td>\n",
       "    </tr>\n",
       "    <tr>\n",
       "      <th>18</th>\n",
       "      <td>x11</td>\n",
       "      <td>1.252979e-05</td>\n",
       "      <td>reject null hypothesis</td>\n",
       "    </tr>\n",
       "    <tr>\n",
       "      <th>19</th>\n",
       "      <td>x24</td>\n",
       "      <td>2.937274e-07</td>\n",
       "      <td>reject null hypothesis</td>\n",
       "    </tr>\n",
       "    <tr>\n",
       "      <th>20</th>\n",
       "      <td>x3</td>\n",
       "      <td>3.625078e-08</td>\n",
       "      <td>reject null hypothesis</td>\n",
       "    </tr>\n",
       "    <tr>\n",
       "      <th>21</th>\n",
       "      <td>x6</td>\n",
       "      <td>1.531731e-10</td>\n",
       "      <td>reject null hypothesis</td>\n",
       "    </tr>\n",
       "    <tr>\n",
       "      <th>22</th>\n",
       "      <td>x19</td>\n",
       "      <td>7.680936e-21</td>\n",
       "      <td>reject null hypothesis</td>\n",
       "    </tr>\n",
       "    <tr>\n",
       "      <th>23</th>\n",
       "      <td>x20</td>\n",
       "      <td>2.361086e-66</td>\n",
       "      <td>reject null hypothesis</td>\n",
       "    </tr>\n",
       "  </tbody>\n",
       "</table>\n",
       "</div>"
      ],
      "text/plain": [
       "   variables       p_value       Bonferroni_Method\n",
       "0        x13  9.250727e-01                        \n",
       "1        x21  9.018349e-01                        \n",
       "2        x22  7.629170e-01                        \n",
       "3         x9  7.438709e-01                        \n",
       "4        x16  7.049079e-01                        \n",
       "5         x2  4.407691e-01                        \n",
       "6        x15  3.185934e-01                        \n",
       "7        x17  2.523230e-01                        \n",
       "8        x23  2.513459e-01                        \n",
       "9         x5  2.434780e-01                        \n",
       "10       x14  1.874318e-01                        \n",
       "11       x12  1.774153e-01                        \n",
       "12       x10  1.543326e-01                        \n",
       "13        x1  1.525334e-01                        \n",
       "14       x18  9.555853e-02                        \n",
       "15        x4  5.653069e-02                        \n",
       "16        x7  2.255354e-02                        \n",
       "17        x8  7.237644e-03                        \n",
       "18       x11  1.252979e-05  reject null hypothesis\n",
       "19       x24  2.937274e-07  reject null hypothesis\n",
       "20        x3  3.625078e-08  reject null hypothesis\n",
       "21        x6  1.531731e-10  reject null hypothesis\n",
       "22       x19  7.680936e-21  reject null hypothesis\n",
       "23       x20  2.361086e-66  reject null hypothesis"
      ]
     },
     "execution_count": 84,
     "metadata": {},
     "output_type": "execute_result"
    }
   ],
   "source": [
    "a = 0.05\n",
    "m = df_Pvalue.variables.nunique()\n",
    "df_Pvalue[\"Bonferroni_Method\"] = \"\"\n",
    "for i in range(len(df_Pvalue)):\n",
    "    if df_Pvalue.p_value[i]< (a/m):\n",
    "        df_Pvalue.Bonferroni_Method[i] = \"reject null hypothesis\"\n",
    "df_Pvalue        "
   ]
  },
  {
   "cell_type": "markdown",
   "id": "063ceca9",
   "metadata": {},
   "source": [
    "In Bonferroni correction method to multiple hypotheses with a confidence level of 0.95, we rejected the variables:"
   ]
  },
  {
   "cell_type": "code",
   "execution_count": 85,
   "id": "7914bc1f",
   "metadata": {},
   "outputs": [
    {
     "data": {
      "text/plain": [
       "array(['x11', 'x24', 'x3', 'x6', 'x19', 'x20'], dtype=object)"
      ]
     },
     "execution_count": 85,
     "metadata": {},
     "output_type": "execute_result"
    }
   ],
   "source": [
    "df_Pvalue[df_Pvalue.Bonferroni_Method == \"reject null hypothesis\"].variables.values"
   ]
  },
  {
   "cell_type": "code",
   "execution_count": 86,
   "id": "a35f7bc0",
   "metadata": {},
   "outputs": [
    {
     "name": "stderr",
     "output_type": "stream",
     "text": [
      "C:\\Users\\yoel1\\AppData\\Local\\Temp/ipykernel_17996/1284176906.py:6: SettingWithCopyWarning: \n",
      "A value is trying to be set on a copy of a slice from a DataFrame\n",
      "\n",
      "See the caveats in the documentation: https://pandas.pydata.org/pandas-docs/stable/user_guide/indexing.html#returning-a-view-versus-a-copy\n",
      "  df_Pvalue.BH_Method[i] = \"reject null hypothesis\"\n"
     ]
    },
    {
     "data": {
      "text/html": [
       "<div>\n",
       "<style scoped>\n",
       "    .dataframe tbody tr th:only-of-type {\n",
       "        vertical-align: middle;\n",
       "    }\n",
       "\n",
       "    .dataframe tbody tr th {\n",
       "        vertical-align: top;\n",
       "    }\n",
       "\n",
       "    .dataframe thead th {\n",
       "        text-align: right;\n",
       "    }\n",
       "</style>\n",
       "<table border=\"1\" class=\"dataframe\">\n",
       "  <thead>\n",
       "    <tr style=\"text-align: right;\">\n",
       "      <th></th>\n",
       "      <th>variables</th>\n",
       "      <th>p_value</th>\n",
       "      <th>Bonferroni_Method</th>\n",
       "      <th>BH_Method</th>\n",
       "    </tr>\n",
       "  </thead>\n",
       "  <tbody>\n",
       "    <tr>\n",
       "      <th>0</th>\n",
       "      <td>x13</td>\n",
       "      <td>9.250727e-01</td>\n",
       "      <td></td>\n",
       "      <td></td>\n",
       "    </tr>\n",
       "    <tr>\n",
       "      <th>1</th>\n",
       "      <td>x21</td>\n",
       "      <td>9.018349e-01</td>\n",
       "      <td></td>\n",
       "      <td></td>\n",
       "    </tr>\n",
       "    <tr>\n",
       "      <th>2</th>\n",
       "      <td>x22</td>\n",
       "      <td>7.629170e-01</td>\n",
       "      <td></td>\n",
       "      <td></td>\n",
       "    </tr>\n",
       "    <tr>\n",
       "      <th>3</th>\n",
       "      <td>x9</td>\n",
       "      <td>7.438709e-01</td>\n",
       "      <td></td>\n",
       "      <td></td>\n",
       "    </tr>\n",
       "    <tr>\n",
       "      <th>4</th>\n",
       "      <td>x16</td>\n",
       "      <td>7.049079e-01</td>\n",
       "      <td></td>\n",
       "      <td></td>\n",
       "    </tr>\n",
       "    <tr>\n",
       "      <th>5</th>\n",
       "      <td>x2</td>\n",
       "      <td>4.407691e-01</td>\n",
       "      <td></td>\n",
       "      <td></td>\n",
       "    </tr>\n",
       "    <tr>\n",
       "      <th>6</th>\n",
       "      <td>x15</td>\n",
       "      <td>3.185934e-01</td>\n",
       "      <td></td>\n",
       "      <td></td>\n",
       "    </tr>\n",
       "    <tr>\n",
       "      <th>7</th>\n",
       "      <td>x17</td>\n",
       "      <td>2.523230e-01</td>\n",
       "      <td></td>\n",
       "      <td></td>\n",
       "    </tr>\n",
       "    <tr>\n",
       "      <th>8</th>\n",
       "      <td>x23</td>\n",
       "      <td>2.513459e-01</td>\n",
       "      <td></td>\n",
       "      <td></td>\n",
       "    </tr>\n",
       "    <tr>\n",
       "      <th>9</th>\n",
       "      <td>x5</td>\n",
       "      <td>2.434780e-01</td>\n",
       "      <td></td>\n",
       "      <td></td>\n",
       "    </tr>\n",
       "    <tr>\n",
       "      <th>10</th>\n",
       "      <td>x14</td>\n",
       "      <td>1.874318e-01</td>\n",
       "      <td></td>\n",
       "      <td></td>\n",
       "    </tr>\n",
       "    <tr>\n",
       "      <th>11</th>\n",
       "      <td>x12</td>\n",
       "      <td>1.774153e-01</td>\n",
       "      <td></td>\n",
       "      <td></td>\n",
       "    </tr>\n",
       "    <tr>\n",
       "      <th>12</th>\n",
       "      <td>x10</td>\n",
       "      <td>1.543326e-01</td>\n",
       "      <td></td>\n",
       "      <td></td>\n",
       "    </tr>\n",
       "    <tr>\n",
       "      <th>13</th>\n",
       "      <td>x1</td>\n",
       "      <td>1.525334e-01</td>\n",
       "      <td></td>\n",
       "      <td></td>\n",
       "    </tr>\n",
       "    <tr>\n",
       "      <th>14</th>\n",
       "      <td>x18</td>\n",
       "      <td>9.555853e-02</td>\n",
       "      <td></td>\n",
       "      <td></td>\n",
       "    </tr>\n",
       "    <tr>\n",
       "      <th>15</th>\n",
       "      <td>x4</td>\n",
       "      <td>5.653069e-02</td>\n",
       "      <td></td>\n",
       "      <td></td>\n",
       "    </tr>\n",
       "    <tr>\n",
       "      <th>16</th>\n",
       "      <td>x7</td>\n",
       "      <td>2.255354e-02</td>\n",
       "      <td></td>\n",
       "      <td>reject null hypothesis</td>\n",
       "    </tr>\n",
       "    <tr>\n",
       "      <th>17</th>\n",
       "      <td>x8</td>\n",
       "      <td>7.237644e-03</td>\n",
       "      <td></td>\n",
       "      <td>reject null hypothesis</td>\n",
       "    </tr>\n",
       "    <tr>\n",
       "      <th>18</th>\n",
       "      <td>x11</td>\n",
       "      <td>1.252979e-05</td>\n",
       "      <td>reject null hypothesis</td>\n",
       "      <td>reject null hypothesis</td>\n",
       "    </tr>\n",
       "    <tr>\n",
       "      <th>19</th>\n",
       "      <td>x24</td>\n",
       "      <td>2.937274e-07</td>\n",
       "      <td>reject null hypothesis</td>\n",
       "      <td>reject null hypothesis</td>\n",
       "    </tr>\n",
       "    <tr>\n",
       "      <th>20</th>\n",
       "      <td>x3</td>\n",
       "      <td>3.625078e-08</td>\n",
       "      <td>reject null hypothesis</td>\n",
       "      <td>reject null hypothesis</td>\n",
       "    </tr>\n",
       "    <tr>\n",
       "      <th>21</th>\n",
       "      <td>x6</td>\n",
       "      <td>1.531731e-10</td>\n",
       "      <td>reject null hypothesis</td>\n",
       "      <td>reject null hypothesis</td>\n",
       "    </tr>\n",
       "    <tr>\n",
       "      <th>22</th>\n",
       "      <td>x19</td>\n",
       "      <td>7.680936e-21</td>\n",
       "      <td>reject null hypothesis</td>\n",
       "      <td>reject null hypothesis</td>\n",
       "    </tr>\n",
       "    <tr>\n",
       "      <th>23</th>\n",
       "      <td>x20</td>\n",
       "      <td>2.361086e-66</td>\n",
       "      <td>reject null hypothesis</td>\n",
       "      <td>reject null hypothesis</td>\n",
       "    </tr>\n",
       "  </tbody>\n",
       "</table>\n",
       "</div>"
      ],
      "text/plain": [
       "   variables       p_value       Bonferroni_Method               BH_Method\n",
       "0        x13  9.250727e-01                                                \n",
       "1        x21  9.018349e-01                                                \n",
       "2        x22  7.629170e-01                                                \n",
       "3         x9  7.438709e-01                                                \n",
       "4        x16  7.049079e-01                                                \n",
       "5         x2  4.407691e-01                                                \n",
       "6        x15  3.185934e-01                                                \n",
       "7        x17  2.523230e-01                                                \n",
       "8        x23  2.513459e-01                                                \n",
       "9         x5  2.434780e-01                                                \n",
       "10       x14  1.874318e-01                                                \n",
       "11       x12  1.774153e-01                                                \n",
       "12       x10  1.543326e-01                                                \n",
       "13        x1  1.525334e-01                                                \n",
       "14       x18  9.555853e-02                                                \n",
       "15        x4  5.653069e-02                                                \n",
       "16        x7  2.255354e-02                          reject null hypothesis\n",
       "17        x8  7.237644e-03                          reject null hypothesis\n",
       "18       x11  1.252979e-05  reject null hypothesis  reject null hypothesis\n",
       "19       x24  2.937274e-07  reject null hypothesis  reject null hypothesis\n",
       "20        x3  3.625078e-08  reject null hypothesis  reject null hypothesis\n",
       "21        x6  1.531731e-10  reject null hypothesis  reject null hypothesis\n",
       "22       x19  7.680936e-21  reject null hypothesis  reject null hypothesis\n",
       "23       x20  2.361086e-66  reject null hypothesis  reject null hypothesis"
      ]
     },
     "execution_count": 86,
     "metadata": {},
     "output_type": "execute_result"
    }
   ],
   "source": [
    "a = 0.05\n",
    "m = df_Pvalue.variables.nunique()\n",
    "df_Pvalue[\"BH_Method\"] = \"\"\n",
    "for i in range(len(df_Pvalue)):\n",
    "    if df_Pvalue.p_value[i]< (((i+1)*a)/m):\n",
    "        df_Pvalue.BH_Method[i] = \"reject null hypothesis\"\n",
    "df_Pvalue  "
   ]
  },
  {
   "cell_type": "markdown",
   "id": "75481129",
   "metadata": {},
   "source": [
    "In BH method to multiple hypotheses with a confidence level of 0.95, we rejected the variables:"
   ]
  },
  {
   "cell_type": "code",
   "execution_count": 87,
   "id": "aef36613",
   "metadata": {},
   "outputs": [
    {
     "data": {
      "text/plain": [
       "array(['x7', 'x8', 'x11', 'x24', 'x3', 'x6', 'x19', 'x20'], dtype=object)"
      ]
     },
     "execution_count": 87,
     "metadata": {},
     "output_type": "execute_result"
    }
   ],
   "source": [
    "df_Pvalue[df_Pvalue.BH_Method == \"reject null hypothesis\"].variables.values"
   ]
  },
  {
   "cell_type": "markdown",
   "id": "21556e22",
   "metadata": {},
   "source": [
    "$\\blacksquare$"
   ]
  }
 ],
 "metadata": {
  "kernelspec": {
   "display_name": "Python 3 (ipykernel)",
   "language": "python",
   "name": "python3"
  },
  "language_info": {
   "codemirror_mode": {
    "name": "ipython",
    "version": 3
   },
   "file_extension": ".py",
   "mimetype": "text/x-python",
   "name": "python",
   "nbconvert_exporter": "python",
   "pygments_lexer": "ipython3",
   "version": "3.9.7"
  }
 },
 "nbformat": 4,
 "nbformat_minor": 5
}
